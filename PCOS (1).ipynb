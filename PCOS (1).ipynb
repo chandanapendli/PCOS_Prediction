{
  "nbformat": 4,
  "nbformat_minor": 0,
  "metadata": {
    "colab": {
      "provenance": [],
      "toc_visible": true
    },
    "kernelspec": {
      "name": "python3",
      "display_name": "Python 3"
    },
    "language_info": {
      "name": "python"
    }
  },
  "cells": [
    {
      "cell_type": "code",
      "source": [
        "import pandas as pd\n",
        "import seaborn as sns\n",
        "import matplotlib.pyplot as plt\n",
        "from sklearn.model_selection import train_test_split\n",
        "from sklearn.ensemble import RandomForestClassifier\n",
        "from sklearn.preprocessing import StandardScaler\n",
        "from sklearn.impute import SimpleImputer\n",
        "import warnings\n",
        "from sklearn.metrics import classification_report\n",
        "from sklearn.metrics import accuracy_score\n",
        "# Ignore all warnings\n",
        "warnings.filterwarnings(\"ignore\")\n"
      ],
      "metadata": {
        "id": "GmWyJMc5BS2N"
      },
      "execution_count": null,
      "outputs": []
    },
    {
      "cell_type": "code",
      "source": [
        "# Load the data\n",
        "data = pd.read_excel(\"/content/PCOS_data_without_infertility.xlsx\")"
      ],
      "metadata": {
        "id": "3pjBwYu4BS2N"
      },
      "execution_count": null,
      "outputs": []
    },
    {
      "cell_type": "code",
      "source": [
        "data.head()"
      ],
      "metadata": {
        "colab": {
          "base_uri": "https://localhost:8080/",
          "height": 325
        },
        "outputId": "46e5ba7a-087a-443d-c4ea-db75b89967be",
        "id": "KqJkh7daBS2O"
      },
      "execution_count": null,
      "outputs": [
        {
          "output_type": "execute_result",
          "data": {
            "text/plain": [
              "   Sl. No  Patient File No.  PCOS (Y/N)   Age (yrs)  Weight (Kg)  Height(Cm)   \\\n",
              "0       1                 1           0          28         44.6        152.0   \n",
              "1       2                 2           0          36         65.0        161.5   \n",
              "2       3                 3           1          33         68.8        165.0   \n",
              "3       4                 4           0          37         65.0        148.0   \n",
              "4       5                 5           0          25         52.0        161.0   \n",
              "\n",
              "    BMI  Blood Group  Pulse rate(bpm)   RR (breaths/min)  ...  \\\n",
              "0  19.3           15                78                22  ...   \n",
              "1   NaN           15                74                20  ...   \n",
              "2   NaN           11                72                18  ...   \n",
              "3   NaN           13                72                20  ...   \n",
              "4   NaN           11                72                18  ...   \n",
              "\n",
              "   Fast food (Y/N)  Reg.Exercise(Y/N)  BP _Systolic (mmHg)  \\\n",
              "0              1.0                  0                  110   \n",
              "1              0.0                  0                  120   \n",
              "2              1.0                  0                  120   \n",
              "3              0.0                  0                  120   \n",
              "4              0.0                  0                  120   \n",
              "\n",
              "   BP _Diastolic (mmHg)  Follicle No. (L)  Follicle No. (R)  \\\n",
              "0                    80                 3                 3   \n",
              "1                    70                 3                 5   \n",
              "2                    80                13                15   \n",
              "3                    70                 2                 2   \n",
              "4                    80                 3                 4   \n",
              "\n",
              "   Avg. F size (L) (mm) Avg. F size (R) (mm)  Endometrium (mm)  Unnamed: 44  \n",
              "0                  18.0                 18.0               8.5          NaN  \n",
              "1                  15.0                 14.0               3.7          NaN  \n",
              "2                  18.0                 20.0              10.0          NaN  \n",
              "3                  15.0                 14.0               7.5          NaN  \n",
              "4                  16.0                 14.0               7.0          NaN  \n",
              "\n",
              "[5 rows x 45 columns]"
            ],
            "text/html": [
              "\n",
              "  <div id=\"df-4f78b317-f108-4900-88c0-a3585fc41167\" class=\"colab-df-container\">\n",
              "    <div>\n",
              "<style scoped>\n",
              "    .dataframe tbody tr th:only-of-type {\n",
              "        vertical-align: middle;\n",
              "    }\n",
              "\n",
              "    .dataframe tbody tr th {\n",
              "        vertical-align: top;\n",
              "    }\n",
              "\n",
              "    .dataframe thead th {\n",
              "        text-align: right;\n",
              "    }\n",
              "</style>\n",
              "<table border=\"1\" class=\"dataframe\">\n",
              "  <thead>\n",
              "    <tr style=\"text-align: right;\">\n",
              "      <th></th>\n",
              "      <th>Sl. No</th>\n",
              "      <th>Patient File No.</th>\n",
              "      <th>PCOS (Y/N)</th>\n",
              "      <th>Age (yrs)</th>\n",
              "      <th>Weight (Kg)</th>\n",
              "      <th>Height(Cm)</th>\n",
              "      <th>BMI</th>\n",
              "      <th>Blood Group</th>\n",
              "      <th>Pulse rate(bpm)</th>\n",
              "      <th>RR (breaths/min)</th>\n",
              "      <th>...</th>\n",
              "      <th>Fast food (Y/N)</th>\n",
              "      <th>Reg.Exercise(Y/N)</th>\n",
              "      <th>BP _Systolic (mmHg)</th>\n",
              "      <th>BP _Diastolic (mmHg)</th>\n",
              "      <th>Follicle No. (L)</th>\n",
              "      <th>Follicle No. (R)</th>\n",
              "      <th>Avg. F size (L) (mm)</th>\n",
              "      <th>Avg. F size (R) (mm)</th>\n",
              "      <th>Endometrium (mm)</th>\n",
              "      <th>Unnamed: 44</th>\n",
              "    </tr>\n",
              "  </thead>\n",
              "  <tbody>\n",
              "    <tr>\n",
              "      <th>0</th>\n",
              "      <td>1</td>\n",
              "      <td>1</td>\n",
              "      <td>0</td>\n",
              "      <td>28</td>\n",
              "      <td>44.6</td>\n",
              "      <td>152.0</td>\n",
              "      <td>19.3</td>\n",
              "      <td>15</td>\n",
              "      <td>78</td>\n",
              "      <td>22</td>\n",
              "      <td>...</td>\n",
              "      <td>1.0</td>\n",
              "      <td>0</td>\n",
              "      <td>110</td>\n",
              "      <td>80</td>\n",
              "      <td>3</td>\n",
              "      <td>3</td>\n",
              "      <td>18.0</td>\n",
              "      <td>18.0</td>\n",
              "      <td>8.5</td>\n",
              "      <td>NaN</td>\n",
              "    </tr>\n",
              "    <tr>\n",
              "      <th>1</th>\n",
              "      <td>2</td>\n",
              "      <td>2</td>\n",
              "      <td>0</td>\n",
              "      <td>36</td>\n",
              "      <td>65.0</td>\n",
              "      <td>161.5</td>\n",
              "      <td>NaN</td>\n",
              "      <td>15</td>\n",
              "      <td>74</td>\n",
              "      <td>20</td>\n",
              "      <td>...</td>\n",
              "      <td>0.0</td>\n",
              "      <td>0</td>\n",
              "      <td>120</td>\n",
              "      <td>70</td>\n",
              "      <td>3</td>\n",
              "      <td>5</td>\n",
              "      <td>15.0</td>\n",
              "      <td>14.0</td>\n",
              "      <td>3.7</td>\n",
              "      <td>NaN</td>\n",
              "    </tr>\n",
              "    <tr>\n",
              "      <th>2</th>\n",
              "      <td>3</td>\n",
              "      <td>3</td>\n",
              "      <td>1</td>\n",
              "      <td>33</td>\n",
              "      <td>68.8</td>\n",
              "      <td>165.0</td>\n",
              "      <td>NaN</td>\n",
              "      <td>11</td>\n",
              "      <td>72</td>\n",
              "      <td>18</td>\n",
              "      <td>...</td>\n",
              "      <td>1.0</td>\n",
              "      <td>0</td>\n",
              "      <td>120</td>\n",
              "      <td>80</td>\n",
              "      <td>13</td>\n",
              "      <td>15</td>\n",
              "      <td>18.0</td>\n",
              "      <td>20.0</td>\n",
              "      <td>10.0</td>\n",
              "      <td>NaN</td>\n",
              "    </tr>\n",
              "    <tr>\n",
              "      <th>3</th>\n",
              "      <td>4</td>\n",
              "      <td>4</td>\n",
              "      <td>0</td>\n",
              "      <td>37</td>\n",
              "      <td>65.0</td>\n",
              "      <td>148.0</td>\n",
              "      <td>NaN</td>\n",
              "      <td>13</td>\n",
              "      <td>72</td>\n",
              "      <td>20</td>\n",
              "      <td>...</td>\n",
              "      <td>0.0</td>\n",
              "      <td>0</td>\n",
              "      <td>120</td>\n",
              "      <td>70</td>\n",
              "      <td>2</td>\n",
              "      <td>2</td>\n",
              "      <td>15.0</td>\n",
              "      <td>14.0</td>\n",
              "      <td>7.5</td>\n",
              "      <td>NaN</td>\n",
              "    </tr>\n",
              "    <tr>\n",
              "      <th>4</th>\n",
              "      <td>5</td>\n",
              "      <td>5</td>\n",
              "      <td>0</td>\n",
              "      <td>25</td>\n",
              "      <td>52.0</td>\n",
              "      <td>161.0</td>\n",
              "      <td>NaN</td>\n",
              "      <td>11</td>\n",
              "      <td>72</td>\n",
              "      <td>18</td>\n",
              "      <td>...</td>\n",
              "      <td>0.0</td>\n",
              "      <td>0</td>\n",
              "      <td>120</td>\n",
              "      <td>80</td>\n",
              "      <td>3</td>\n",
              "      <td>4</td>\n",
              "      <td>16.0</td>\n",
              "      <td>14.0</td>\n",
              "      <td>7.0</td>\n",
              "      <td>NaN</td>\n",
              "    </tr>\n",
              "  </tbody>\n",
              "</table>\n",
              "<p>5 rows × 45 columns</p>\n",
              "</div>\n",
              "    <div class=\"colab-df-buttons\">\n",
              "\n",
              "  <div class=\"colab-df-container\">\n",
              "    <button class=\"colab-df-convert\" onclick=\"convertToInteractive('df-4f78b317-f108-4900-88c0-a3585fc41167')\"\n",
              "            title=\"Convert this dataframe to an interactive table.\"\n",
              "            style=\"display:none;\">\n",
              "\n",
              "  <svg xmlns=\"http://www.w3.org/2000/svg\" height=\"24px\" viewBox=\"0 -960 960 960\">\n",
              "    <path d=\"M120-120v-720h720v720H120Zm60-500h600v-160H180v160Zm220 220h160v-160H400v160Zm0 220h160v-160H400v160ZM180-400h160v-160H180v160Zm440 0h160v-160H620v160ZM180-180h160v-160H180v160Zm440 0h160v-160H620v160Z\"/>\n",
              "  </svg>\n",
              "    </button>\n",
              "\n",
              "  <style>\n",
              "    .colab-df-container {\n",
              "      display:flex;\n",
              "      gap: 12px;\n",
              "    }\n",
              "\n",
              "    .colab-df-convert {\n",
              "      background-color: #E8F0FE;\n",
              "      border: none;\n",
              "      border-radius: 50%;\n",
              "      cursor: pointer;\n",
              "      display: none;\n",
              "      fill: #1967D2;\n",
              "      height: 32px;\n",
              "      padding: 0 0 0 0;\n",
              "      width: 32px;\n",
              "    }\n",
              "\n",
              "    .colab-df-convert:hover {\n",
              "      background-color: #E2EBFA;\n",
              "      box-shadow: 0px 1px 2px rgba(60, 64, 67, 0.3), 0px 1px 3px 1px rgba(60, 64, 67, 0.15);\n",
              "      fill: #174EA6;\n",
              "    }\n",
              "\n",
              "    .colab-df-buttons div {\n",
              "      margin-bottom: 4px;\n",
              "    }\n",
              "\n",
              "    [theme=dark] .colab-df-convert {\n",
              "      background-color: #3B4455;\n",
              "      fill: #D2E3FC;\n",
              "    }\n",
              "\n",
              "    [theme=dark] .colab-df-convert:hover {\n",
              "      background-color: #434B5C;\n",
              "      box-shadow: 0px 1px 3px 1px rgba(0, 0, 0, 0.15);\n",
              "      filter: drop-shadow(0px 1px 2px rgba(0, 0, 0, 0.3));\n",
              "      fill: #FFFFFF;\n",
              "    }\n",
              "  </style>\n",
              "\n",
              "    <script>\n",
              "      const buttonEl =\n",
              "        document.querySelector('#df-4f78b317-f108-4900-88c0-a3585fc41167 button.colab-df-convert');\n",
              "      buttonEl.style.display =\n",
              "        google.colab.kernel.accessAllowed ? 'block' : 'none';\n",
              "\n",
              "      async function convertToInteractive(key) {\n",
              "        const element = document.querySelector('#df-4f78b317-f108-4900-88c0-a3585fc41167');\n",
              "        const dataTable =\n",
              "          await google.colab.kernel.invokeFunction('convertToInteractive',\n",
              "                                                    [key], {});\n",
              "        if (!dataTable) return;\n",
              "\n",
              "        const docLinkHtml = 'Like what you see? Visit the ' +\n",
              "          '<a target=\"_blank\" href=https://colab.research.google.com/notebooks/data_table.ipynb>data table notebook</a>'\n",
              "          + ' to learn more about interactive tables.';\n",
              "        element.innerHTML = '';\n",
              "        dataTable['output_type'] = 'display_data';\n",
              "        await google.colab.output.renderOutput(dataTable, element);\n",
              "        const docLink = document.createElement('div');\n",
              "        docLink.innerHTML = docLinkHtml;\n",
              "        element.appendChild(docLink);\n",
              "      }\n",
              "    </script>\n",
              "  </div>\n",
              "\n",
              "\n",
              "<div id=\"df-5e92b288-937e-4642-9cb8-639f6c131e14\">\n",
              "  <button class=\"colab-df-quickchart\" onclick=\"quickchart('df-5e92b288-937e-4642-9cb8-639f6c131e14')\"\n",
              "            title=\"Suggest charts\"\n",
              "            style=\"display:none;\">\n",
              "\n",
              "<svg xmlns=\"http://www.w3.org/2000/svg\" height=\"24px\"viewBox=\"0 0 24 24\"\n",
              "     width=\"24px\">\n",
              "    <g>\n",
              "        <path d=\"M19 3H5c-1.1 0-2 .9-2 2v14c0 1.1.9 2 2 2h14c1.1 0 2-.9 2-2V5c0-1.1-.9-2-2-2zM9 17H7v-7h2v7zm4 0h-2V7h2v10zm4 0h-2v-4h2v4z\"/>\n",
              "    </g>\n",
              "</svg>\n",
              "  </button>\n",
              "\n",
              "<style>\n",
              "  .colab-df-quickchart {\n",
              "      --bg-color: #E8F0FE;\n",
              "      --fill-color: #1967D2;\n",
              "      --hover-bg-color: #E2EBFA;\n",
              "      --hover-fill-color: #174EA6;\n",
              "      --disabled-fill-color: #AAA;\n",
              "      --disabled-bg-color: #DDD;\n",
              "  }\n",
              "\n",
              "  [theme=dark] .colab-df-quickchart {\n",
              "      --bg-color: #3B4455;\n",
              "      --fill-color: #D2E3FC;\n",
              "      --hover-bg-color: #434B5C;\n",
              "      --hover-fill-color: #FFFFFF;\n",
              "      --disabled-bg-color: #3B4455;\n",
              "      --disabled-fill-color: #666;\n",
              "  }\n",
              "\n",
              "  .colab-df-quickchart {\n",
              "    background-color: var(--bg-color);\n",
              "    border: none;\n",
              "    border-radius: 50%;\n",
              "    cursor: pointer;\n",
              "    display: none;\n",
              "    fill: var(--fill-color);\n",
              "    height: 32px;\n",
              "    padding: 0;\n",
              "    width: 32px;\n",
              "  }\n",
              "\n",
              "  .colab-df-quickchart:hover {\n",
              "    background-color: var(--hover-bg-color);\n",
              "    box-shadow: 0 1px 2px rgba(60, 64, 67, 0.3), 0 1px 3px 1px rgba(60, 64, 67, 0.15);\n",
              "    fill: var(--button-hover-fill-color);\n",
              "  }\n",
              "\n",
              "  .colab-df-quickchart-complete:disabled,\n",
              "  .colab-df-quickchart-complete:disabled:hover {\n",
              "    background-color: var(--disabled-bg-color);\n",
              "    fill: var(--disabled-fill-color);\n",
              "    box-shadow: none;\n",
              "  }\n",
              "\n",
              "  .colab-df-spinner {\n",
              "    border: 2px solid var(--fill-color);\n",
              "    border-color: transparent;\n",
              "    border-bottom-color: var(--fill-color);\n",
              "    animation:\n",
              "      spin 1s steps(1) infinite;\n",
              "  }\n",
              "\n",
              "  @keyframes spin {\n",
              "    0% {\n",
              "      border-color: transparent;\n",
              "      border-bottom-color: var(--fill-color);\n",
              "      border-left-color: var(--fill-color);\n",
              "    }\n",
              "    20% {\n",
              "      border-color: transparent;\n",
              "      border-left-color: var(--fill-color);\n",
              "      border-top-color: var(--fill-color);\n",
              "    }\n",
              "    30% {\n",
              "      border-color: transparent;\n",
              "      border-left-color: var(--fill-color);\n",
              "      border-top-color: var(--fill-color);\n",
              "      border-right-color: var(--fill-color);\n",
              "    }\n",
              "    40% {\n",
              "      border-color: transparent;\n",
              "      border-right-color: var(--fill-color);\n",
              "      border-top-color: var(--fill-color);\n",
              "    }\n",
              "    60% {\n",
              "      border-color: transparent;\n",
              "      border-right-color: var(--fill-color);\n",
              "    }\n",
              "    80% {\n",
              "      border-color: transparent;\n",
              "      border-right-color: var(--fill-color);\n",
              "      border-bottom-color: var(--fill-color);\n",
              "    }\n",
              "    90% {\n",
              "      border-color: transparent;\n",
              "      border-bottom-color: var(--fill-color);\n",
              "    }\n",
              "  }\n",
              "</style>\n",
              "\n",
              "  <script>\n",
              "    async function quickchart(key) {\n",
              "      const quickchartButtonEl =\n",
              "        document.querySelector('#' + key + ' button');\n",
              "      quickchartButtonEl.disabled = true;  // To prevent multiple clicks.\n",
              "      quickchartButtonEl.classList.add('colab-df-spinner');\n",
              "      try {\n",
              "        const charts = await google.colab.kernel.invokeFunction(\n",
              "            'suggestCharts', [key], {});\n",
              "      } catch (error) {\n",
              "        console.error('Error during call to suggestCharts:', error);\n",
              "      }\n",
              "      quickchartButtonEl.classList.remove('colab-df-spinner');\n",
              "      quickchartButtonEl.classList.add('colab-df-quickchart-complete');\n",
              "    }\n",
              "    (() => {\n",
              "      let quickchartButtonEl =\n",
              "        document.querySelector('#df-5e92b288-937e-4642-9cb8-639f6c131e14 button');\n",
              "      quickchartButtonEl.style.display =\n",
              "        google.colab.kernel.accessAllowed ? 'block' : 'none';\n",
              "    })();\n",
              "  </script>\n",
              "</div>\n",
              "\n",
              "    </div>\n",
              "  </div>\n"
            ],
            "application/vnd.google.colaboratory.intrinsic+json": {
              "type": "dataframe",
              "variable_name": "data"
            }
          },
          "metadata": {},
          "execution_count": 4
        }
      ]
    },
    {
      "cell_type": "code",
      "source": [
        "data.describe()"
      ],
      "metadata": {
        "colab": {
          "base_uri": "https://localhost:8080/",
          "height": 384
        },
        "outputId": "0c8db953-ce57-48ea-e12d-d43ec8cc577b",
        "id": "uFR1xDg_BS2O"
      },
      "execution_count": null,
      "outputs": [
        {
          "output_type": "execute_result",
          "data": {
            "text/plain": [
              "           Sl. No  Patient File No.  PCOS (Y/N)   Age (yrs)  Weight (Kg)  \\\n",
              "count  541.000000        541.000000  541.000000  541.000000   541.000000   \n",
              "mean   271.000000        271.000000    0.327172   31.430684    59.637153   \n",
              "std    156.317519        156.317519    0.469615    5.411006    11.028287   \n",
              "min      1.000000          1.000000    0.000000   20.000000    31.000000   \n",
              "25%    136.000000        136.000000    0.000000   28.000000    52.000000   \n",
              "50%    271.000000        271.000000    0.000000   31.000000    59.000000   \n",
              "75%    406.000000        406.000000    1.000000   35.000000    65.000000   \n",
              "max    541.000000        541.000000    1.000000   48.000000   108.000000   \n",
              "\n",
              "       Height(Cm)          BMI  Blood Group  Pulse rate(bpm)   \\\n",
              "count   541.000000  242.000000   541.000000        541.000000   \n",
              "mean    156.484835   23.929752    13.802218         73.247689   \n",
              "std       6.033545    3.663177     1.840812          4.430285   \n",
              "min     137.000000   15.100000    11.000000         13.000000   \n",
              "25%     152.000000   21.900000    13.000000         72.000000   \n",
              "50%     156.000000   24.000000    14.000000         72.000000   \n",
              "75%     160.000000   25.975000    15.000000         74.000000   \n",
              "max     180.000000   38.900000    18.000000         82.000000   \n",
              "\n",
              "       RR (breaths/min)  ...  Pimples(Y/N)  Fast food (Y/N)  \\\n",
              "count        541.000000  ...    541.000000       540.000000   \n",
              "mean          19.243993  ...      0.489834         0.514815   \n",
              "std            1.688629  ...      0.500359         0.500244   \n",
              "min           16.000000  ...      0.000000         0.000000   \n",
              "25%           18.000000  ...      0.000000         0.000000   \n",
              "50%           18.000000  ...      0.000000         1.000000   \n",
              "75%           20.000000  ...      1.000000         1.000000   \n",
              "max           28.000000  ...      1.000000         1.000000   \n",
              "\n",
              "       Reg.Exercise(Y/N)  BP _Systolic (mmHg)  BP _Diastolic (mmHg)  \\\n",
              "count         541.000000           541.000000            541.000000   \n",
              "mean            0.247689           114.661738             76.927911   \n",
              "std             0.432070             7.384556              5.574112   \n",
              "min             0.000000            12.000000              8.000000   \n",
              "25%             0.000000           110.000000             70.000000   \n",
              "50%             0.000000           110.000000             80.000000   \n",
              "75%             0.000000           120.000000             80.000000   \n",
              "max             1.000000           140.000000            100.000000   \n",
              "\n",
              "       Follicle No. (L)  Follicle No. (R)  Avg. F size (L) (mm)  \\\n",
              "count        541.000000        541.000000            541.000000   \n",
              "mean           6.129390          6.641405             15.018115   \n",
              "std            4.229294          4.436889              3.566839   \n",
              "min            0.000000          0.000000              0.000000   \n",
              "25%            3.000000          3.000000             13.000000   \n",
              "50%            5.000000          6.000000             15.000000   \n",
              "75%            9.000000         10.000000             18.000000   \n",
              "max           22.000000         20.000000             24.000000   \n",
              "\n",
              "       Avg. F size (R) (mm)  Endometrium (mm)  \n",
              "count            541.000000        541.000000  \n",
              "mean              15.451701          8.475915  \n",
              "std                3.318848          2.165381  \n",
              "min                0.000000          0.000000  \n",
              "25%               13.000000          7.000000  \n",
              "50%               16.000000          8.500000  \n",
              "75%               18.000000          9.800000  \n",
              "max               24.000000         18.000000  \n",
              "\n",
              "[8 rows x 42 columns]"
            ],
            "text/html": [
              "\n",
              "  <div id=\"df-68ab94f8-4f76-4b9a-b96c-92253ab6497e\" class=\"colab-df-container\">\n",
              "    <div>\n",
              "<style scoped>\n",
              "    .dataframe tbody tr th:only-of-type {\n",
              "        vertical-align: middle;\n",
              "    }\n",
              "\n",
              "    .dataframe tbody tr th {\n",
              "        vertical-align: top;\n",
              "    }\n",
              "\n",
              "    .dataframe thead th {\n",
              "        text-align: right;\n",
              "    }\n",
              "</style>\n",
              "<table border=\"1\" class=\"dataframe\">\n",
              "  <thead>\n",
              "    <tr style=\"text-align: right;\">\n",
              "      <th></th>\n",
              "      <th>Sl. No</th>\n",
              "      <th>Patient File No.</th>\n",
              "      <th>PCOS (Y/N)</th>\n",
              "      <th>Age (yrs)</th>\n",
              "      <th>Weight (Kg)</th>\n",
              "      <th>Height(Cm)</th>\n",
              "      <th>BMI</th>\n",
              "      <th>Blood Group</th>\n",
              "      <th>Pulse rate(bpm)</th>\n",
              "      <th>RR (breaths/min)</th>\n",
              "      <th>...</th>\n",
              "      <th>Pimples(Y/N)</th>\n",
              "      <th>Fast food (Y/N)</th>\n",
              "      <th>Reg.Exercise(Y/N)</th>\n",
              "      <th>BP _Systolic (mmHg)</th>\n",
              "      <th>BP _Diastolic (mmHg)</th>\n",
              "      <th>Follicle No. (L)</th>\n",
              "      <th>Follicle No. (R)</th>\n",
              "      <th>Avg. F size (L) (mm)</th>\n",
              "      <th>Avg. F size (R) (mm)</th>\n",
              "      <th>Endometrium (mm)</th>\n",
              "    </tr>\n",
              "  </thead>\n",
              "  <tbody>\n",
              "    <tr>\n",
              "      <th>count</th>\n",
              "      <td>541.000000</td>\n",
              "      <td>541.000000</td>\n",
              "      <td>541.000000</td>\n",
              "      <td>541.000000</td>\n",
              "      <td>541.000000</td>\n",
              "      <td>541.000000</td>\n",
              "      <td>242.000000</td>\n",
              "      <td>541.000000</td>\n",
              "      <td>541.000000</td>\n",
              "      <td>541.000000</td>\n",
              "      <td>...</td>\n",
              "      <td>541.000000</td>\n",
              "      <td>540.000000</td>\n",
              "      <td>541.000000</td>\n",
              "      <td>541.000000</td>\n",
              "      <td>541.000000</td>\n",
              "      <td>541.000000</td>\n",
              "      <td>541.000000</td>\n",
              "      <td>541.000000</td>\n",
              "      <td>541.000000</td>\n",
              "      <td>541.000000</td>\n",
              "    </tr>\n",
              "    <tr>\n",
              "      <th>mean</th>\n",
              "      <td>271.000000</td>\n",
              "      <td>271.000000</td>\n",
              "      <td>0.327172</td>\n",
              "      <td>31.430684</td>\n",
              "      <td>59.637153</td>\n",
              "      <td>156.484835</td>\n",
              "      <td>23.929752</td>\n",
              "      <td>13.802218</td>\n",
              "      <td>73.247689</td>\n",
              "      <td>19.243993</td>\n",
              "      <td>...</td>\n",
              "      <td>0.489834</td>\n",
              "      <td>0.514815</td>\n",
              "      <td>0.247689</td>\n",
              "      <td>114.661738</td>\n",
              "      <td>76.927911</td>\n",
              "      <td>6.129390</td>\n",
              "      <td>6.641405</td>\n",
              "      <td>15.018115</td>\n",
              "      <td>15.451701</td>\n",
              "      <td>8.475915</td>\n",
              "    </tr>\n",
              "    <tr>\n",
              "      <th>std</th>\n",
              "      <td>156.317519</td>\n",
              "      <td>156.317519</td>\n",
              "      <td>0.469615</td>\n",
              "      <td>5.411006</td>\n",
              "      <td>11.028287</td>\n",
              "      <td>6.033545</td>\n",
              "      <td>3.663177</td>\n",
              "      <td>1.840812</td>\n",
              "      <td>4.430285</td>\n",
              "      <td>1.688629</td>\n",
              "      <td>...</td>\n",
              "      <td>0.500359</td>\n",
              "      <td>0.500244</td>\n",
              "      <td>0.432070</td>\n",
              "      <td>7.384556</td>\n",
              "      <td>5.574112</td>\n",
              "      <td>4.229294</td>\n",
              "      <td>4.436889</td>\n",
              "      <td>3.566839</td>\n",
              "      <td>3.318848</td>\n",
              "      <td>2.165381</td>\n",
              "    </tr>\n",
              "    <tr>\n",
              "      <th>min</th>\n",
              "      <td>1.000000</td>\n",
              "      <td>1.000000</td>\n",
              "      <td>0.000000</td>\n",
              "      <td>20.000000</td>\n",
              "      <td>31.000000</td>\n",
              "      <td>137.000000</td>\n",
              "      <td>15.100000</td>\n",
              "      <td>11.000000</td>\n",
              "      <td>13.000000</td>\n",
              "      <td>16.000000</td>\n",
              "      <td>...</td>\n",
              "      <td>0.000000</td>\n",
              "      <td>0.000000</td>\n",
              "      <td>0.000000</td>\n",
              "      <td>12.000000</td>\n",
              "      <td>8.000000</td>\n",
              "      <td>0.000000</td>\n",
              "      <td>0.000000</td>\n",
              "      <td>0.000000</td>\n",
              "      <td>0.000000</td>\n",
              "      <td>0.000000</td>\n",
              "    </tr>\n",
              "    <tr>\n",
              "      <th>25%</th>\n",
              "      <td>136.000000</td>\n",
              "      <td>136.000000</td>\n",
              "      <td>0.000000</td>\n",
              "      <td>28.000000</td>\n",
              "      <td>52.000000</td>\n",
              "      <td>152.000000</td>\n",
              "      <td>21.900000</td>\n",
              "      <td>13.000000</td>\n",
              "      <td>72.000000</td>\n",
              "      <td>18.000000</td>\n",
              "      <td>...</td>\n",
              "      <td>0.000000</td>\n",
              "      <td>0.000000</td>\n",
              "      <td>0.000000</td>\n",
              "      <td>110.000000</td>\n",
              "      <td>70.000000</td>\n",
              "      <td>3.000000</td>\n",
              "      <td>3.000000</td>\n",
              "      <td>13.000000</td>\n",
              "      <td>13.000000</td>\n",
              "      <td>7.000000</td>\n",
              "    </tr>\n",
              "    <tr>\n",
              "      <th>50%</th>\n",
              "      <td>271.000000</td>\n",
              "      <td>271.000000</td>\n",
              "      <td>0.000000</td>\n",
              "      <td>31.000000</td>\n",
              "      <td>59.000000</td>\n",
              "      <td>156.000000</td>\n",
              "      <td>24.000000</td>\n",
              "      <td>14.000000</td>\n",
              "      <td>72.000000</td>\n",
              "      <td>18.000000</td>\n",
              "      <td>...</td>\n",
              "      <td>0.000000</td>\n",
              "      <td>1.000000</td>\n",
              "      <td>0.000000</td>\n",
              "      <td>110.000000</td>\n",
              "      <td>80.000000</td>\n",
              "      <td>5.000000</td>\n",
              "      <td>6.000000</td>\n",
              "      <td>15.000000</td>\n",
              "      <td>16.000000</td>\n",
              "      <td>8.500000</td>\n",
              "    </tr>\n",
              "    <tr>\n",
              "      <th>75%</th>\n",
              "      <td>406.000000</td>\n",
              "      <td>406.000000</td>\n",
              "      <td>1.000000</td>\n",
              "      <td>35.000000</td>\n",
              "      <td>65.000000</td>\n",
              "      <td>160.000000</td>\n",
              "      <td>25.975000</td>\n",
              "      <td>15.000000</td>\n",
              "      <td>74.000000</td>\n",
              "      <td>20.000000</td>\n",
              "      <td>...</td>\n",
              "      <td>1.000000</td>\n",
              "      <td>1.000000</td>\n",
              "      <td>0.000000</td>\n",
              "      <td>120.000000</td>\n",
              "      <td>80.000000</td>\n",
              "      <td>9.000000</td>\n",
              "      <td>10.000000</td>\n",
              "      <td>18.000000</td>\n",
              "      <td>18.000000</td>\n",
              "      <td>9.800000</td>\n",
              "    </tr>\n",
              "    <tr>\n",
              "      <th>max</th>\n",
              "      <td>541.000000</td>\n",
              "      <td>541.000000</td>\n",
              "      <td>1.000000</td>\n",
              "      <td>48.000000</td>\n",
              "      <td>108.000000</td>\n",
              "      <td>180.000000</td>\n",
              "      <td>38.900000</td>\n",
              "      <td>18.000000</td>\n",
              "      <td>82.000000</td>\n",
              "      <td>28.000000</td>\n",
              "      <td>...</td>\n",
              "      <td>1.000000</td>\n",
              "      <td>1.000000</td>\n",
              "      <td>1.000000</td>\n",
              "      <td>140.000000</td>\n",
              "      <td>100.000000</td>\n",
              "      <td>22.000000</td>\n",
              "      <td>20.000000</td>\n",
              "      <td>24.000000</td>\n",
              "      <td>24.000000</td>\n",
              "      <td>18.000000</td>\n",
              "    </tr>\n",
              "  </tbody>\n",
              "</table>\n",
              "<p>8 rows × 42 columns</p>\n",
              "</div>\n",
              "    <div class=\"colab-df-buttons\">\n",
              "\n",
              "  <div class=\"colab-df-container\">\n",
              "    <button class=\"colab-df-convert\" onclick=\"convertToInteractive('df-68ab94f8-4f76-4b9a-b96c-92253ab6497e')\"\n",
              "            title=\"Convert this dataframe to an interactive table.\"\n",
              "            style=\"display:none;\">\n",
              "\n",
              "  <svg xmlns=\"http://www.w3.org/2000/svg\" height=\"24px\" viewBox=\"0 -960 960 960\">\n",
              "    <path d=\"M120-120v-720h720v720H120Zm60-500h600v-160H180v160Zm220 220h160v-160H400v160Zm0 220h160v-160H400v160ZM180-400h160v-160H180v160Zm440 0h160v-160H620v160ZM180-180h160v-160H180v160Zm440 0h160v-160H620v160Z\"/>\n",
              "  </svg>\n",
              "    </button>\n",
              "\n",
              "  <style>\n",
              "    .colab-df-container {\n",
              "      display:flex;\n",
              "      gap: 12px;\n",
              "    }\n",
              "\n",
              "    .colab-df-convert {\n",
              "      background-color: #E8F0FE;\n",
              "      border: none;\n",
              "      border-radius: 50%;\n",
              "      cursor: pointer;\n",
              "      display: none;\n",
              "      fill: #1967D2;\n",
              "      height: 32px;\n",
              "      padding: 0 0 0 0;\n",
              "      width: 32px;\n",
              "    }\n",
              "\n",
              "    .colab-df-convert:hover {\n",
              "      background-color: #E2EBFA;\n",
              "      box-shadow: 0px 1px 2px rgba(60, 64, 67, 0.3), 0px 1px 3px 1px rgba(60, 64, 67, 0.15);\n",
              "      fill: #174EA6;\n",
              "    }\n",
              "\n",
              "    .colab-df-buttons div {\n",
              "      margin-bottom: 4px;\n",
              "    }\n",
              "\n",
              "    [theme=dark] .colab-df-convert {\n",
              "      background-color: #3B4455;\n",
              "      fill: #D2E3FC;\n",
              "    }\n",
              "\n",
              "    [theme=dark] .colab-df-convert:hover {\n",
              "      background-color: #434B5C;\n",
              "      box-shadow: 0px 1px 3px 1px rgba(0, 0, 0, 0.15);\n",
              "      filter: drop-shadow(0px 1px 2px rgba(0, 0, 0, 0.3));\n",
              "      fill: #FFFFFF;\n",
              "    }\n",
              "  </style>\n",
              "\n",
              "    <script>\n",
              "      const buttonEl =\n",
              "        document.querySelector('#df-68ab94f8-4f76-4b9a-b96c-92253ab6497e button.colab-df-convert');\n",
              "      buttonEl.style.display =\n",
              "        google.colab.kernel.accessAllowed ? 'block' : 'none';\n",
              "\n",
              "      async function convertToInteractive(key) {\n",
              "        const element = document.querySelector('#df-68ab94f8-4f76-4b9a-b96c-92253ab6497e');\n",
              "        const dataTable =\n",
              "          await google.colab.kernel.invokeFunction('convertToInteractive',\n",
              "                                                    [key], {});\n",
              "        if (!dataTable) return;\n",
              "\n",
              "        const docLinkHtml = 'Like what you see? Visit the ' +\n",
              "          '<a target=\"_blank\" href=https://colab.research.google.com/notebooks/data_table.ipynb>data table notebook</a>'\n",
              "          + ' to learn more about interactive tables.';\n",
              "        element.innerHTML = '';\n",
              "        dataTable['output_type'] = 'display_data';\n",
              "        await google.colab.output.renderOutput(dataTable, element);\n",
              "        const docLink = document.createElement('div');\n",
              "        docLink.innerHTML = docLinkHtml;\n",
              "        element.appendChild(docLink);\n",
              "      }\n",
              "    </script>\n",
              "  </div>\n",
              "\n",
              "\n",
              "<div id=\"df-6abb5a49-f63d-49cc-b849-8c4c430cac90\">\n",
              "  <button class=\"colab-df-quickchart\" onclick=\"quickchart('df-6abb5a49-f63d-49cc-b849-8c4c430cac90')\"\n",
              "            title=\"Suggest charts\"\n",
              "            style=\"display:none;\">\n",
              "\n",
              "<svg xmlns=\"http://www.w3.org/2000/svg\" height=\"24px\"viewBox=\"0 0 24 24\"\n",
              "     width=\"24px\">\n",
              "    <g>\n",
              "        <path d=\"M19 3H5c-1.1 0-2 .9-2 2v14c0 1.1.9 2 2 2h14c1.1 0 2-.9 2-2V5c0-1.1-.9-2-2-2zM9 17H7v-7h2v7zm4 0h-2V7h2v10zm4 0h-2v-4h2v4z\"/>\n",
              "    </g>\n",
              "</svg>\n",
              "  </button>\n",
              "\n",
              "<style>\n",
              "  .colab-df-quickchart {\n",
              "      --bg-color: #E8F0FE;\n",
              "      --fill-color: #1967D2;\n",
              "      --hover-bg-color: #E2EBFA;\n",
              "      --hover-fill-color: #174EA6;\n",
              "      --disabled-fill-color: #AAA;\n",
              "      --disabled-bg-color: #DDD;\n",
              "  }\n",
              "\n",
              "  [theme=dark] .colab-df-quickchart {\n",
              "      --bg-color: #3B4455;\n",
              "      --fill-color: #D2E3FC;\n",
              "      --hover-bg-color: #434B5C;\n",
              "      --hover-fill-color: #FFFFFF;\n",
              "      --disabled-bg-color: #3B4455;\n",
              "      --disabled-fill-color: #666;\n",
              "  }\n",
              "\n",
              "  .colab-df-quickchart {\n",
              "    background-color: var(--bg-color);\n",
              "    border: none;\n",
              "    border-radius: 50%;\n",
              "    cursor: pointer;\n",
              "    display: none;\n",
              "    fill: var(--fill-color);\n",
              "    height: 32px;\n",
              "    padding: 0;\n",
              "    width: 32px;\n",
              "  }\n",
              "\n",
              "  .colab-df-quickchart:hover {\n",
              "    background-color: var(--hover-bg-color);\n",
              "    box-shadow: 0 1px 2px rgba(60, 64, 67, 0.3), 0 1px 3px 1px rgba(60, 64, 67, 0.15);\n",
              "    fill: var(--button-hover-fill-color);\n",
              "  }\n",
              "\n",
              "  .colab-df-quickchart-complete:disabled,\n",
              "  .colab-df-quickchart-complete:disabled:hover {\n",
              "    background-color: var(--disabled-bg-color);\n",
              "    fill: var(--disabled-fill-color);\n",
              "    box-shadow: none;\n",
              "  }\n",
              "\n",
              "  .colab-df-spinner {\n",
              "    border: 2px solid var(--fill-color);\n",
              "    border-color: transparent;\n",
              "    border-bottom-color: var(--fill-color);\n",
              "    animation:\n",
              "      spin 1s steps(1) infinite;\n",
              "  }\n",
              "\n",
              "  @keyframes spin {\n",
              "    0% {\n",
              "      border-color: transparent;\n",
              "      border-bottom-color: var(--fill-color);\n",
              "      border-left-color: var(--fill-color);\n",
              "    }\n",
              "    20% {\n",
              "      border-color: transparent;\n",
              "      border-left-color: var(--fill-color);\n",
              "      border-top-color: var(--fill-color);\n",
              "    }\n",
              "    30% {\n",
              "      border-color: transparent;\n",
              "      border-left-color: var(--fill-color);\n",
              "      border-top-color: var(--fill-color);\n",
              "      border-right-color: var(--fill-color);\n",
              "    }\n",
              "    40% {\n",
              "      border-color: transparent;\n",
              "      border-right-color: var(--fill-color);\n",
              "      border-top-color: var(--fill-color);\n",
              "    }\n",
              "    60% {\n",
              "      border-color: transparent;\n",
              "      border-right-color: var(--fill-color);\n",
              "    }\n",
              "    80% {\n",
              "      border-color: transparent;\n",
              "      border-right-color: var(--fill-color);\n",
              "      border-bottom-color: var(--fill-color);\n",
              "    }\n",
              "    90% {\n",
              "      border-color: transparent;\n",
              "      border-bottom-color: var(--fill-color);\n",
              "    }\n",
              "  }\n",
              "</style>\n",
              "\n",
              "  <script>\n",
              "    async function quickchart(key) {\n",
              "      const quickchartButtonEl =\n",
              "        document.querySelector('#' + key + ' button');\n",
              "      quickchartButtonEl.disabled = true;  // To prevent multiple clicks.\n",
              "      quickchartButtonEl.classList.add('colab-df-spinner');\n",
              "      try {\n",
              "        const charts = await google.colab.kernel.invokeFunction(\n",
              "            'suggestCharts', [key], {});\n",
              "      } catch (error) {\n",
              "        console.error('Error during call to suggestCharts:', error);\n",
              "      }\n",
              "      quickchartButtonEl.classList.remove('colab-df-spinner');\n",
              "      quickchartButtonEl.classList.add('colab-df-quickchart-complete');\n",
              "    }\n",
              "    (() => {\n",
              "      let quickchartButtonEl =\n",
              "        document.querySelector('#df-6abb5a49-f63d-49cc-b849-8c4c430cac90 button');\n",
              "      quickchartButtonEl.style.display =\n",
              "        google.colab.kernel.accessAllowed ? 'block' : 'none';\n",
              "    })();\n",
              "  </script>\n",
              "</div>\n",
              "\n",
              "    </div>\n",
              "  </div>\n"
            ],
            "application/vnd.google.colaboratory.intrinsic+json": {
              "type": "dataframe"
            }
          },
          "metadata": {},
          "execution_count": 5
        }
      ]
    },
    {
      "cell_type": "code",
      "source": [
        "data.shape"
      ],
      "metadata": {
        "id": "U1sUvWS2-zOv",
        "outputId": "360f2df5-b920-4cf8-bb96-ad0f97bed744",
        "colab": {
          "base_uri": "https://localhost:8080/"
        }
      },
      "execution_count": null,
      "outputs": [
        {
          "output_type": "execute_result",
          "data": {
            "text/plain": [
              "(541, 42)"
            ]
          },
          "metadata": {},
          "execution_count": 61
        }
      ]
    },
    {
      "cell_type": "code",
      "source": [
        "data.info()"
      ],
      "metadata": {
        "colab": {
          "base_uri": "https://localhost:8080/"
        },
        "outputId": "ee6bb2a6-3bb3-42f0-8ba5-fef736a88f66",
        "id": "vbttKOcJBS2O"
      },
      "execution_count": null,
      "outputs": [
        {
          "output_type": "stream",
          "name": "stdout",
          "text": [
            "<class 'pandas.core.frame.DataFrame'>\n",
            "RangeIndex: 541 entries, 0 to 540\n",
            "Data columns (total 45 columns):\n",
            " #   Column                  Non-Null Count  Dtype  \n",
            "---  ------                  --------------  -----  \n",
            " 0   Sl. No                  541 non-null    int64  \n",
            " 1   Patient File No.        541 non-null    int64  \n",
            " 2   PCOS (Y/N)              541 non-null    int64  \n",
            " 3    Age (yrs)              541 non-null    int64  \n",
            " 4   Weight (Kg)             541 non-null    float64\n",
            " 5   Height(Cm)              541 non-null    float64\n",
            " 6   BMI                     242 non-null    float64\n",
            " 7   Blood Group             541 non-null    int64  \n",
            " 8   Pulse rate(bpm)         541 non-null    int64  \n",
            " 9   RR (breaths/min)        541 non-null    int64  \n",
            " 10  Hb(g/dl)                541 non-null    float64\n",
            " 11  Cycle(R/I)              541 non-null    int64  \n",
            " 12  Cycle length(days)      541 non-null    int64  \n",
            " 13  Marraige Status (Yrs)   540 non-null    float64\n",
            " 14  Pregnant(Y/N)           541 non-null    int64  \n",
            " 15  No. of aborptions       541 non-null    int64  \n",
            " 16    I   beta-HCG(mIU/mL)  541 non-null    float64\n",
            " 17  II    beta-HCG(mIU/mL)  541 non-null    object \n",
            " 18  FSH(mIU/mL)             541 non-null    float64\n",
            " 19  LH(mIU/mL)              541 non-null    float64\n",
            " 20  FSH/LH                  9 non-null      float64\n",
            " 21  Hip(inch)               541 non-null    int64  \n",
            " 22  Waist(inch)             541 non-null    int64  \n",
            " 23  Waist:Hip Ratio         9 non-null      float64\n",
            " 24  TSH (mIU/L)             541 non-null    float64\n",
            " 25  AMH(ng/mL)              541 non-null    object \n",
            " 26  PRL(ng/mL)              541 non-null    float64\n",
            " 27  Vit D3 (ng/mL)          541 non-null    float64\n",
            " 28  PRG(ng/mL)              541 non-null    float64\n",
            " 29  RBS(mg/dl)              541 non-null    float64\n",
            " 30  Weight gain(Y/N)        541 non-null    int64  \n",
            " 31  hair growth(Y/N)        541 non-null    int64  \n",
            " 32  Skin darkening (Y/N)    541 non-null    int64  \n",
            " 33  Hair loss(Y/N)          541 non-null    int64  \n",
            " 34  Pimples(Y/N)            541 non-null    int64  \n",
            " 35  Fast food (Y/N)         540 non-null    float64\n",
            " 36  Reg.Exercise(Y/N)       541 non-null    int64  \n",
            " 37  BP _Systolic (mmHg)     541 non-null    int64  \n",
            " 38  BP _Diastolic (mmHg)    541 non-null    int64  \n",
            " 39  Follicle No. (L)        541 non-null    int64  \n",
            " 40  Follicle No. (R)        541 non-null    int64  \n",
            " 41  Avg. F size (L) (mm)    541 non-null    float64\n",
            " 42  Avg. F size (R) (mm)    541 non-null    float64\n",
            " 43  Endometrium (mm)        541 non-null    float64\n",
            " 44  Unnamed: 44             2 non-null      object \n",
            "dtypes: float64(19), int64(23), object(3)\n",
            "memory usage: 190.3+ KB\n"
          ]
        }
      ]
    },
    {
      "cell_type": "code",
      "source": [
        "data.isnull().sum()"
      ],
      "metadata": {
        "colab": {
          "base_uri": "https://localhost:8080/"
        },
        "outputId": "e83d722b-0c2d-4af9-fc68-3189cbdcb672",
        "id": "O_R4AbA7BS2O"
      },
      "execution_count": null,
      "outputs": [
        {
          "output_type": "execute_result",
          "data": {
            "text/plain": [
              "Sl. No                      0\n",
              "Patient File No.            0\n",
              "PCOS (Y/N)                  0\n",
              " Age (yrs)                  0\n",
              "Weight (Kg)                 0\n",
              "Height(Cm)                  0\n",
              "BMI                       299\n",
              "Blood Group                 0\n",
              "Pulse rate(bpm)             0\n",
              "RR (breaths/min)            0\n",
              "Hb(g/dl)                    0\n",
              "Cycle(R/I)                  0\n",
              "Cycle length(days)          0\n",
              "Marraige Status (Yrs)       1\n",
              "Pregnant(Y/N)               0\n",
              "No. of aborptions           0\n",
              "  I   beta-HCG(mIU/mL)      0\n",
              "II    beta-HCG(mIU/mL)      0\n",
              "FSH(mIU/mL)                 0\n",
              "LH(mIU/mL)                  0\n",
              "FSH/LH                    532\n",
              "Hip(inch)                   0\n",
              "Waist(inch)                 0\n",
              "Waist:Hip Ratio           532\n",
              "TSH (mIU/L)                 0\n",
              "AMH(ng/mL)                  0\n",
              "PRL(ng/mL)                  0\n",
              "Vit D3 (ng/mL)              0\n",
              "PRG(ng/mL)                  0\n",
              "RBS(mg/dl)                  0\n",
              "Weight gain(Y/N)            0\n",
              "hair growth(Y/N)            0\n",
              "Skin darkening (Y/N)        0\n",
              "Hair loss(Y/N)              0\n",
              "Pimples(Y/N)                0\n",
              "Fast food (Y/N)             1\n",
              "Reg.Exercise(Y/N)           0\n",
              "BP _Systolic (mmHg)         0\n",
              "BP _Diastolic (mmHg)        0\n",
              "Follicle No. (L)            0\n",
              "Follicle No. (R)            0\n",
              "Avg. F size (L) (mm)        0\n",
              "Avg. F size (R) (mm)        0\n",
              "Endometrium (mm)            0\n",
              "Unnamed: 44               539\n",
              "dtype: int64"
            ]
          },
          "metadata": {},
          "execution_count": 7
        }
      ]
    },
    {
      "cell_type": "code",
      "source": [
        "# Drop unnecessary columns\n",
        "columns_to_drop = ['Sl. No', 'Patient File No.', 'Unnamed: 44']\n",
        "data.drop(columns=columns_to_drop, inplace=True)"
      ],
      "metadata": {
        "id": "rhhYATxcBS2O"
      },
      "execution_count": null,
      "outputs": []
    },
    {
      "cell_type": "code",
      "source": [
        "data[\"AMH(ng/mL)\"] = pd.to_numeric(data[\"AMH(ng/mL)\"], errors='coerce')\n",
        "data[\"II    beta-HCG(mIU/mL)\"] = pd.to_numeric(data[\"II    beta-HCG(mIU/mL)\"], errors='coerce')\n"
      ],
      "metadata": {
        "id": "7T5nYo61BS2O"
      },
      "execution_count": null,
      "outputs": []
    },
    {
      "cell_type": "code",
      "source": [
        "# Handle missing values\n",
        "imputer = SimpleImputer(strategy='mean')\n",
        "data_imputed = imputer.fit_transform(data)\n",
        "data = pd.DataFrame(data_imputed, columns=data.columns)"
      ],
      "metadata": {
        "id": "3wtrNSyzBS2P"
      },
      "execution_count": null,
      "outputs": []
    },
    {
      "cell_type": "code",
      "source": [
        "data.isnull().sum()"
      ],
      "metadata": {
        "colab": {
          "base_uri": "https://localhost:8080/"
        },
        "outputId": "a294ac92-3042-491c-81c7-36eb346d3832",
        "id": "cxBig1xwBS2P"
      },
      "execution_count": null,
      "outputs": [
        {
          "output_type": "execute_result",
          "data": {
            "text/plain": [
              "PCOS (Y/N)                0\n",
              " Age (yrs)                0\n",
              "Weight (Kg)               0\n",
              "Height(Cm)                0\n",
              "BMI                       0\n",
              "Blood Group               0\n",
              "Pulse rate(bpm)           0\n",
              "RR (breaths/min)          0\n",
              "Hb(g/dl)                  0\n",
              "Cycle(R/I)                0\n",
              "Cycle length(days)        0\n",
              "Marraige Status (Yrs)     0\n",
              "Pregnant(Y/N)             0\n",
              "No. of aborptions         0\n",
              "  I   beta-HCG(mIU/mL)    0\n",
              "II    beta-HCG(mIU/mL)    0\n",
              "FSH(mIU/mL)               0\n",
              "LH(mIU/mL)                0\n",
              "FSH/LH                    0\n",
              "Hip(inch)                 0\n",
              "Waist(inch)               0\n",
              "Waist:Hip Ratio           0\n",
              "TSH (mIU/L)               0\n",
              "AMH(ng/mL)                0\n",
              "PRL(ng/mL)                0\n",
              "Vit D3 (ng/mL)            0\n",
              "PRG(ng/mL)                0\n",
              "RBS(mg/dl)                0\n",
              "Weight gain(Y/N)          0\n",
              "hair growth(Y/N)          0\n",
              "Skin darkening (Y/N)      0\n",
              "Hair loss(Y/N)            0\n",
              "Pimples(Y/N)              0\n",
              "Fast food (Y/N)           0\n",
              "Reg.Exercise(Y/N)         0\n",
              "BP _Systolic (mmHg)       0\n",
              "BP _Diastolic (mmHg)      0\n",
              "Follicle No. (L)          0\n",
              "Follicle No. (R)          0\n",
              "Avg. F size (L) (mm)      0\n",
              "Avg. F size (R) (mm)      0\n",
              "Endometrium (mm)          0\n",
              "dtype: int64"
            ]
          },
          "metadata": {},
          "execution_count": 11
        }
      ]
    },
    {
      "cell_type": "code",
      "source": [
        "# Prepare data for modeling\n",
        "x = data.drop(columns=['PCOS (Y/N)'])\n",
        "y = data['PCOS (Y/N)']"
      ],
      "metadata": {
        "id": "pqHFX8QRBS2P"
      },
      "execution_count": null,
      "outputs": []
    },
    {
      "cell_type": "code",
      "source": [
        "scaler = StandardScaler()\n",
        "X = scaler.fit_transform(x)"
      ],
      "metadata": {
        "id": "nvHzRUuEBS2P"
      },
      "execution_count": null,
      "outputs": []
    },
    {
      "cell_type": "code",
      "source": [
        "# Split data into training and testing sets\n",
        "x_train, x_test, y_train, y_test = train_test_split(X, y, test_size=0.2, random_state=42)\n",
        "\n",
        "# Build RandomForestClassifier model\n",
        "rf_classifier = RandomForestClassifier()\n",
        "rf_classifier.fit(x_train, y_train)"
      ],
      "metadata": {
        "colab": {
          "base_uri": "https://localhost:8080/",
          "height": 74
        },
        "outputId": "a6ceae45-0e5f-4cd8-b92e-0e3ecf0bf334",
        "id": "kmvN0E8KBS2P"
      },
      "execution_count": null,
      "outputs": [
        {
          "output_type": "execute_result",
          "data": {
            "text/plain": [
              "RandomForestClassifier()"
            ],
            "text/html": [
              "<style>#sk-container-id-1 {color: black;background-color: white;}#sk-container-id-1 pre{padding: 0;}#sk-container-id-1 div.sk-toggleable {background-color: white;}#sk-container-id-1 label.sk-toggleable__label {cursor: pointer;display: block;width: 100%;margin-bottom: 0;padding: 0.3em;box-sizing: border-box;text-align: center;}#sk-container-id-1 label.sk-toggleable__label-arrow:before {content: \"▸\";float: left;margin-right: 0.25em;color: #696969;}#sk-container-id-1 label.sk-toggleable__label-arrow:hover:before {color: black;}#sk-container-id-1 div.sk-estimator:hover label.sk-toggleable__label-arrow:before {color: black;}#sk-container-id-1 div.sk-toggleable__content {max-height: 0;max-width: 0;overflow: hidden;text-align: left;background-color: #f0f8ff;}#sk-container-id-1 div.sk-toggleable__content pre {margin: 0.2em;color: black;border-radius: 0.25em;background-color: #f0f8ff;}#sk-container-id-1 input.sk-toggleable__control:checked~div.sk-toggleable__content {max-height: 200px;max-width: 100%;overflow: auto;}#sk-container-id-1 input.sk-toggleable__control:checked~label.sk-toggleable__label-arrow:before {content: \"▾\";}#sk-container-id-1 div.sk-estimator input.sk-toggleable__control:checked~label.sk-toggleable__label {background-color: #d4ebff;}#sk-container-id-1 div.sk-label input.sk-toggleable__control:checked~label.sk-toggleable__label {background-color: #d4ebff;}#sk-container-id-1 input.sk-hidden--visually {border: 0;clip: rect(1px 1px 1px 1px);clip: rect(1px, 1px, 1px, 1px);height: 1px;margin: -1px;overflow: hidden;padding: 0;position: absolute;width: 1px;}#sk-container-id-1 div.sk-estimator {font-family: monospace;background-color: #f0f8ff;border: 1px dotted black;border-radius: 0.25em;box-sizing: border-box;margin-bottom: 0.5em;}#sk-container-id-1 div.sk-estimator:hover {background-color: #d4ebff;}#sk-container-id-1 div.sk-parallel-item::after {content: \"\";width: 100%;border-bottom: 1px solid gray;flex-grow: 1;}#sk-container-id-1 div.sk-label:hover label.sk-toggleable__label {background-color: #d4ebff;}#sk-container-id-1 div.sk-serial::before {content: \"\";position: absolute;border-left: 1px solid gray;box-sizing: border-box;top: 0;bottom: 0;left: 50%;z-index: 0;}#sk-container-id-1 div.sk-serial {display: flex;flex-direction: column;align-items: center;background-color: white;padding-right: 0.2em;padding-left: 0.2em;position: relative;}#sk-container-id-1 div.sk-item {position: relative;z-index: 1;}#sk-container-id-1 div.sk-parallel {display: flex;align-items: stretch;justify-content: center;background-color: white;position: relative;}#sk-container-id-1 div.sk-item::before, #sk-container-id-1 div.sk-parallel-item::before {content: \"\";position: absolute;border-left: 1px solid gray;box-sizing: border-box;top: 0;bottom: 0;left: 50%;z-index: -1;}#sk-container-id-1 div.sk-parallel-item {display: flex;flex-direction: column;z-index: 1;position: relative;background-color: white;}#sk-container-id-1 div.sk-parallel-item:first-child::after {align-self: flex-end;width: 50%;}#sk-container-id-1 div.sk-parallel-item:last-child::after {align-self: flex-start;width: 50%;}#sk-container-id-1 div.sk-parallel-item:only-child::after {width: 0;}#sk-container-id-1 div.sk-dashed-wrapped {border: 1px dashed gray;margin: 0 0.4em 0.5em 0.4em;box-sizing: border-box;padding-bottom: 0.4em;background-color: white;}#sk-container-id-1 div.sk-label label {font-family: monospace;font-weight: bold;display: inline-block;line-height: 1.2em;}#sk-container-id-1 div.sk-label-container {text-align: center;}#sk-container-id-1 div.sk-container {/* jupyter's `normalize.less` sets `[hidden] { display: none; }` but bootstrap.min.css set `[hidden] { display: none !important; }` so we also need the `!important` here to be able to override the default hidden behavior on the sphinx rendered scikit-learn.org. See: https://github.com/scikit-learn/scikit-learn/issues/21755 */display: inline-block !important;position: relative;}#sk-container-id-1 div.sk-text-repr-fallback {display: none;}</style><div id=\"sk-container-id-1\" class=\"sk-top-container\"><div class=\"sk-text-repr-fallback\"><pre>RandomForestClassifier()</pre><b>In a Jupyter environment, please rerun this cell to show the HTML representation or trust the notebook. <br />On GitHub, the HTML representation is unable to render, please try loading this page with nbviewer.org.</b></div><div class=\"sk-container\" hidden><div class=\"sk-item\"><div class=\"sk-estimator sk-toggleable\"><input class=\"sk-toggleable__control sk-hidden--visually\" id=\"sk-estimator-id-1\" type=\"checkbox\" checked><label for=\"sk-estimator-id-1\" class=\"sk-toggleable__label sk-toggleable__label-arrow\">RandomForestClassifier</label><div class=\"sk-toggleable__content\"><pre>RandomForestClassifier()</pre></div></div></div></div></div>"
            ]
          },
          "metadata": {},
          "execution_count": 14
        }
      ]
    },
    {
      "cell_type": "code",
      "source": [
        "# Get feature importances\n",
        "importances = rf_classifier.feature_importances_\n",
        "\n",
        "# Get the indices of the features sorted by importance\n",
        "indices = importances.argsort()[::-1]\n",
        "\n",
        "# Print the feature ranking\n",
        "# Print the feature ranking\n",
        "print(\"Feature ranking:\")\n",
        "for f in range(x_train.shape[1]):\n",
        "    print(\"%d. feature %d (%f) - %s\" % (f + 1, indices[f], importances[indices[f]], data.columns[indices[f]]))\n",
        "\n",
        "\n",
        "# Plot the feature importances\n",
        "plt.figure()\n",
        "plt.title(\"Feature importances\")\n",
        "plt.bar(range(x_train.shape[1]), importances[indices], color=\"r\", align=\"center\")\n",
        "plt.xticks(range(x_train.shape[1]), indices)\n",
        "plt.xlim([-1, x_train.shape[1]])\n",
        "plt.show()"
      ],
      "metadata": {
        "colab": {
          "base_uri": "https://localhost:8080/",
          "height": 1000
        },
        "outputId": "71360bc2-cc3c-4af1-a371-1d37abd025a9",
        "id": "9AlvKtDEBS2P"
      },
      "execution_count": null,
      "outputs": [
        {
          "output_type": "stream",
          "name": "stdout",
          "text": [
            "Feature ranking:\n",
            "1. feature 37 (0.195725) - Follicle No. (L)\n",
            "2. feature 36 (0.149274) - BP _Diastolic (mmHg)\n",
            "3. feature 29 (0.049052) - hair growth(Y/N)\n",
            "4. feature 28 (0.042458) - Weight gain(Y/N)\n",
            "5. feature 22 (0.040306) - TSH (mIU/L)\n",
            "6. feature 27 (0.039086) - RBS(mg/dl)\n",
            "7. feature 9 (0.030942) - Cycle(R/I)\n",
            "8. feature 16 (0.028701) - FSH(mIU/mL)\n",
            "9. feature 8 (0.025447) - Hb(g/dl)\n",
            "10. feature 1 (0.022012) -  Age (yrs)\n",
            "11. feature 24 (0.021156) - PRL(ng/mL)\n",
            "12. feature 21 (0.020838) - Waist:Hip Ratio\n",
            "13. feature 23 (0.020175) - AMH(ng/mL)\n",
            "14. feature 32 (0.019805) - Pimples(Y/N)\n",
            "15. feature 38 (0.019179) - Follicle No. (R)\n",
            "16. feature 0 (0.019150) - PCOS (Y/N)\n",
            "17. feature 18 (0.018870) - FSH/LH\n",
            "18. feature 15 (0.018691) - II    beta-HCG(mIU/mL)\n",
            "19. feature 39 (0.017629) - Avg. F size (L) (mm)\n",
            "20. feature 10 (0.017522) - Cycle length(days)\n",
            "21. feature 25 (0.017144) - Vit D3 (ng/mL)\n",
            "22. feature 7 (0.015998) - RR (breaths/min)\n",
            "23. feature 19 (0.015808) - Hip(inch)\n",
            "24. feature 13 (0.015609) - No. of aborptions\n",
            "25. feature 40 (0.014491) - Avg. F size (R) (mm)\n",
            "26. feature 2 (0.013612) - Weight (Kg)\n",
            "27. feature 3 (0.012903) - Height(Cm) \n",
            "28. feature 26 (0.012577) - PRG(ng/mL)\n",
            "29. feature 31 (0.011375) - Hair loss(Y/N)\n",
            "30. feature 5 (0.009756) - Blood Group\n",
            "31. feature 4 (0.009043) - BMI\n",
            "32. feature 14 (0.008344) -   I   beta-HCG(mIU/mL)\n",
            "33. feature 34 (0.005765) - Reg.Exercise(Y/N)\n",
            "34. feature 6 (0.004544) - Pulse rate(bpm) \n",
            "35. feature 33 (0.004123) - Fast food (Y/N)\n",
            "36. feature 30 (0.003882) - Skin darkening (Y/N)\n",
            "37. feature 12 (0.002179) - Pregnant(Y/N)\n",
            "38. feature 11 (0.002161) - Marraige Status (Yrs)\n",
            "39. feature 17 (0.001981) - LH(mIU/mL)\n",
            "40. feature 35 (0.001833) - BP _Systolic (mmHg)\n",
            "41. feature 20 (0.000857) - Waist(inch)\n"
          ]
        },
        {
          "output_type": "display_data",
          "data": {
            "text/plain": [
              "<Figure size 640x480 with 1 Axes>"
            ],
            "image/png": "[encoded data removed]"
          },
          "metadata": {}
        }
      ]
    },
    {
      "cell_type": "code",
      "source": [
        "columns_of_interest = ['Hb(g/dl)', 'Cycle(R/I)','FSH(mIU/mL)','TSH (mIU/L)','RBS(mg/dl)','Weight gain(Y/N)', 'hair growth(Y/N)','BP _Diastolic (mmHg)', 'Follicle No. (L)','PCOS (Y/N)']\n",
        "# Create boxplots for the selected columns\n",
        "plt.figure(figsize=(8, 6))\n",
        "for column in columns_of_interest:\n",
        "    sns.boxplot(x=data[column], orient=\"v\", palette=\"Set2\")\n",
        "    plt.title(f\"Boxplot for {column}\")\n",
        "    plt.xlabel(column)\n",
        "    plt.ylabel(\"Values\")\n",
        "    plt.show()"
      ],
      "metadata": {
        "colab": {
          "base_uri": "https://localhost:8080/",
          "height": 1000
        },
        "id": "ZZ24LoslL3XM",
        "outputId": "8026a1f0-2168-4d33-aaaf-5bff6a508d4a"
      },
      "execution_count": null,
      "outputs": [
        {
          "output_type": "display_data",
          "data": {
            "text/plain": [
              "<Figure size 800x600 with 1 Axes>"
            ],
            "image/png": "[encoded data removed]"
          },
          "metadata": {}
        },
        {
          "output_type": "display_data",
          "data": {
            "text/plain": [
              "<Figure size 640x480 with 1 Axes>"
            ],
            "image/png": "[encoded data removed]"
          },
          "metadata": {}
        },
        {
          "output_type": "display_data",
          "data": {
            "text/plain": [
              "<Figure size 640x480 with 1 Axes>"
            ],
            "image/png": "[encoded data removed]"
          },
          "metadata": {}
        },
        {
          "output_type": "display_data",
          "data": {
            "text/plain": [
              "<Figure size 640x480 with 1 Axes>"
            ],
            "image/png": "[encoded data removed]"
          },
          "metadata": {}
        },
        {
          "output_type": "display_data",
          "data": {
            "text/plain": [
              "<Figure size 640x480 with 1 Axes>"
            ],
            "image/png": "[encoded data removed]"
          },
          "metadata": {}
        },
        {
          "output_type": "display_data",
          "data": {
            "text/plain": [
              "<Figure size 640x480 with 1 Axes>"
            ],
            "image/png": "[encoded data removed]"
          },
          "metadata": {}
        },
        {
          "output_type": "display_data",
          "data": {
            "text/plain": [
              "<Figure size 640x480 with 1 Axes>"
            ],
            "image/png": "[encoded data removed]"
          },
          "metadata": {}
        },
        {
          "output_type": "display_data",
          "data": {
            "text/plain": [
              "<Figure size 640x480 with 1 Axes>"
            ],
            "image/png": "[encoded data removed]"
          },
          "metadata": {}
        },
        {
          "output_type": "display_data",
          "data": {
            "text/plain": [
              "<Figure size 640x480 with 1 Axes>"
            ],
            "image/png": "[encoded data removed]"
          },
          "metadata": {}
        },
        {
          "output_type": "display_data",
          "data": {
            "text/plain": [
              "<Figure size 640x480 with 1 Axes>"
            ],
            "image/png": "[encoded data removed]"
          },
          "metadata": {}
        }
      ]
    },
    {
      "cell_type": "code",
      "source": [
        "import numpy as np"
      ],
      "metadata": {
        "id": "mkdEwOI3CGpz"
      },
      "execution_count": null,
      "outputs": []
    },
    {
      "cell_type": "code",
      "source": [
        "quant=data['Hb(g/dl)'].quantile(q=[0.75,0.25])\n",
        "print(quant)\n",
        "Q3=quant.loc[0.75]\n",
        "print(Q3)\n",
        "Q1=quant.loc[0.25]\n",
        "print(Q1)\n",
        "IQR=Q3-Q1\n",
        "print(IQR)\n",
        "maxwhisker=Q3+1.5*IQR\n",
        "print(maxwhisker)\n",
        "minwhisker=Q1-1.5*IQR\n",
        "print(minwhisker)\n",
        "data['Hb(g/dl)']=np.where(data['Hb(g/dl)']>13.499999999999998,13.499999999999998,data['Hb(g/dl)'])\n",
        "data['Hb(g/dl)']=np.where(data['Hb(g/dl)']<8.700000000000001,8.700000000000001,data['Hb(g/dl)'])\n",
        "sns.boxplot(data['Hb(g/dl)'])"
      ],
      "metadata": {
        "colab": {
          "base_uri": "https://localhost:8080/",
          "height": 567
        },
        "id": "zq9GSZRfRvLa",
        "outputId": "e8cf4380-49fe-4037-ebde-504ce799c016"
      },
      "execution_count": null,
      "outputs": [
        {
          "output_type": "stream",
          "name": "stdout",
          "text": [
            "0.75    11.7\n",
            "0.25    10.5\n",
            "Name: Hb(g/dl), dtype: float64\n",
            "11.7\n",
            "10.5\n",
            "1.1999999999999993\n",
            "13.499999999999998\n",
            "8.700000000000001\n"
          ]
        },
        {
          "output_type": "execute_result",
          "data": {
            "text/plain": [
              "<Axes: ylabel='Hb(g/dl)'>"
            ]
          },
          "metadata": {},
          "execution_count": 18
        },
        {
          "output_type": "display_data",
          "data": {
            "text/plain": [
              "<Figure size 640x480 with 1 Axes>"
            ],
            "image/png": "[encoded data removed]"
          },
          "metadata": {}
        }
      ]
    },
    {
      "cell_type": "code",
      "source": [
        "quant=data['FSH(mIU/mL)'].quantile(q=[0.75,0.25])\n",
        "print(quant)\n",
        "Q3=quant.loc[0.75]\n",
        "print(Q3)\n",
        "Q1=quant.loc[0.25]\n",
        "print(Q1)\n",
        "IQR=Q3-Q1\n",
        "print(IQR)\n",
        "maxwhisker=Q3+1.5*IQR\n",
        "print(maxwhisker)\n",
        "minwhisker=Q1-1.5*IQR\n",
        "print(minwhisker)\n",
        "data['FSH(mIU/mL)']=np.where(data['FSH(mIU/mL)']>6.897407285625,6.897407285625,data['FSH(mIU/mL)'])\n",
        "data['FSH(mIU/mL)']=np.where(data['FSH(mIU/mL)']<1.1415556286249995,1.1415556286249995,data['FSH(mIU/mL)'])\n",
        "sns.boxplot(data['FSH(mIU/mL)'])"
      ],
      "metadata": {
        "colab": {
          "base_uri": "https://localhost:8080/",
          "height": 567
        },
        "id": "1s55FbWVRuJE",
        "outputId": "1b5a8bdb-1029-4eec-ff6a-ea388dc83ca7"
      },
      "execution_count": null,
      "outputs": [
        {
          "output_type": "stream",
          "name": "stdout",
          "text": [
            "0.75    6.41\n",
            "0.25    3.30\n",
            "Name: FSH(mIU/mL), dtype: float64\n",
            "6.41\n",
            "3.3\n",
            "3.1100000000000003\n",
            "11.075000000000001\n",
            "-1.365000000000001\n"
          ]
        },
        {
          "output_type": "execute_result",
          "data": {
            "text/plain": [
              "<Axes: ylabel='FSH(mIU/mL)'>"
            ]
          },
          "metadata": {},
          "execution_count": 19
        },
        {
          "output_type": "display_data",
          "data": {
            "text/plain": [
              "<Figure size 640x480 with 1 Axes>"
            ],
            "image/png": "[encoded data removed]"
          },
          "metadata": {}
        }
      ]
    },
    {
      "cell_type": "code",
      "source": [
        "quant=data['TSH (mIU/L)'].quantile(q=[0.75,0.25])\n",
        "print(quant)\n",
        "Q3=quant.loc[0.75]\n",
        "print(Q3)\n",
        "Q1=quant.loc[0.25]\n",
        "print(Q1)\n",
        "IQR=Q3-Q1\n",
        "print(IQR)\n",
        "maxwhisker=Q3+1.5*IQR\n",
        "print(maxwhisker)\n",
        "minwhisker=Q1-1.5*IQR\n",
        "print(minwhisker)\n",
        "data['TSH (mIU/L)']=np.where(data['TSH (mIU/L)']>6.705,6.705,data['TSH (mIU/L)'])\n",
        "data['TSH (mIU/L)']=np.where(data['TSH (mIU/L)']<-1.6549999999999998,-1.6549999999999998,data['TSH (mIU/L)'])\n",
        "sns.boxplot(data['TSH (mIU/L)'])"
      ],
      "metadata": {
        "colab": {
          "base_uri": "https://localhost:8080/",
          "height": 571
        },
        "id": "z5jh189iU312",
        "outputId": "e86d42be-f654-4b8e-9b80-421af44cfb14"
      },
      "execution_count": null,
      "outputs": [
        {
          "output_type": "stream",
          "name": "stdout",
          "text": [
            "0.75    3.57\n",
            "0.25    1.48\n",
            "Name: TSH (mIU/L), dtype: float64\n",
            "3.57\n",
            "1.48\n",
            "2.09\n",
            "6.705\n",
            "-1.6549999999999998\n"
          ]
        },
        {
          "output_type": "execute_result",
          "data": {
            "text/plain": [
              "<Axes: ylabel='TSH (mIU/L)'>"
            ]
          },
          "metadata": {},
          "execution_count": 20
        },
        {
          "output_type": "display_data",
          "data": {
            "text/plain": [
              "<Figure size 640x480 with 1 Axes>"
            ],
            "image/png": "[encoded data removed]"
          },
          "metadata": {}
        }
      ]
    },
    {
      "cell_type": "code",
      "source": [
        "quant=data['RBS(mg/dl)'].quantile(q=[0.75,0.25])\n",
        "print(quant)\n",
        "Q3=quant.loc[0.75]\n",
        "print(Q3)\n",
        "Q1=quant.loc[0.25]\n",
        "print(Q1)\n",
        "IQR=Q3-Q1\n",
        "print(IQR)\n",
        "maxwhisker=Q3+1.5*IQR\n",
        "print(maxwhisker)\n",
        "minwhisker=Q1-1.5*IQR\n",
        "print(minwhisker)\n",
        "data['RBS(mg/dl)']=np.where(data['RBS(mg/dl)']>129.5,129.5,data['RBS(mg/dl)'])\n",
        "data['RBS(mg/dl)']=np.where(data['RBS(mg/dl)']<69.5,69.5,data['RBS(mg/dl)'])\n",
        "sns.boxplot(data['RBS(mg/dl)'])"
      ],
      "metadata": {
        "colab": {
          "base_uri": "https://localhost:8080/",
          "height": 567
        },
        "id": "2Un358MGRtyL",
        "outputId": "81cd3f41-c1f2-4fed-b72a-5df8b844a5ac"
      },
      "execution_count": null,
      "outputs": [
        {
          "output_type": "stream",
          "name": "stdout",
          "text": [
            "0.75    107.0\n",
            "0.25     92.0\n",
            "Name: RBS(mg/dl), dtype: float64\n",
            "107.0\n",
            "92.0\n",
            "15.0\n",
            "129.5\n",
            "69.5\n"
          ]
        },
        {
          "output_type": "execute_result",
          "data": {
            "text/plain": [
              "<Axes: ylabel='RBS(mg/dl)'>"
            ]
          },
          "metadata": {},
          "execution_count": 21
        },
        {
          "output_type": "display_data",
          "data": {
            "text/plain": [
              "<Figure size 640x480 with 1 Axes>"
            ],
            "image/png": "[encoded data removed]"
          },
          "metadata": {}
        }
      ]
    },
    {
      "cell_type": "code",
      "source": [
        "quant=data['BP _Diastolic (mmHg)'].quantile(q=[0.75,0.25])\n",
        "print(quant)\n",
        "Q3=quant.loc[0.75]\n",
        "print(Q3)\n",
        "Q1=quant.loc[0.25]\n",
        "print(Q1)\n",
        "IQR=Q3-Q1\n",
        "print(IQR)\n",
        "maxwhisker=Q3+1.5*IQR\n",
        "print(maxwhisker)\n",
        "minwhisker=Q1-1.5*IQR\n",
        "print(minwhisker)\n",
        "data['BP _Diastolic (mmHg)']=np.where(data['BP _Diastolic (mmHg)']>95.0,95.0,data['BP _Diastolic (mmHg)'])\n",
        "data['BP _Diastolic (mmHg)']=np.where(data['BP _Diastolic (mmHg)']<55.0,55.0,data['BP _Diastolic (mmHg)'])\n",
        "sns.boxplot(data['BP _Diastolic (mmHg)'])"
      ],
      "metadata": {
        "colab": {
          "base_uri": "https://localhost:8080/",
          "height": 567
        },
        "id": "3GZvWJMlRtQf",
        "outputId": "ddc8f358-d9ac-4790-a12c-62fa13421bce"
      },
      "execution_count": null,
      "outputs": [
        {
          "output_type": "stream",
          "name": "stdout",
          "text": [
            "0.75    80.0\n",
            "0.25    70.0\n",
            "Name: BP _Diastolic (mmHg), dtype: float64\n",
            "80.0\n",
            "70.0\n",
            "10.0\n",
            "95.0\n",
            "55.0\n"
          ]
        },
        {
          "output_type": "execute_result",
          "data": {
            "text/plain": [
              "<Axes: ylabel='BP _Diastolic (mmHg)'>"
            ]
          },
          "metadata": {},
          "execution_count": 22
        },
        {
          "output_type": "display_data",
          "data": {
            "text/plain": [
              "<Figure size 640x480 with 1 Axes>"
            ],
            "image/png": "[encoded data removed]"
          },
          "metadata": {}
        }
      ]
    },
    {
      "cell_type": "code",
      "source": [
        "quant=data['Follicle No. (L)'].quantile(q=[0.75,0.25])\n",
        "print(quant)\n",
        "Q3=quant.loc[0.75]\n",
        "print(Q3)\n",
        "Q1=quant.loc[0.25]\n",
        "print(Q1)\n",
        "IQR=Q3-Q1\n",
        "print(IQR)\n",
        "maxwhisker=Q3+1.5*IQR\n",
        "print(maxwhisker)\n",
        "minwhisker=Q1-1.5*IQR\n",
        "print(minwhisker)\n",
        "data['Follicle No. (L)']=np.where(data['Follicle No. (L)']>18.0,18.0,data['Follicle No. (L)'])\n",
        "data['Follicle No. (L)']=np.where(data['Follicle No. (L)']<-6.0,-6.0,data['Follicle No. (L)'])\n",
        "sns.boxplot(data['Follicle No. (L)'])"
      ],
      "metadata": {
        "colab": {
          "base_uri": "https://localhost:8080/",
          "height": 567
        },
        "id": "gZdILc7gRszg",
        "outputId": "be2f84ef-c18c-4142-c824-0e3b24c22889"
      },
      "execution_count": null,
      "outputs": [
        {
          "output_type": "stream",
          "name": "stdout",
          "text": [
            "0.75    9.0\n",
            "0.25    3.0\n",
            "Name: Follicle No. (L), dtype: float64\n",
            "9.0\n",
            "3.0\n",
            "6.0\n",
            "18.0\n",
            "-6.0\n"
          ]
        },
        {
          "output_type": "execute_result",
          "data": {
            "text/plain": [
              "<Axes: ylabel='Follicle No. (L)'>"
            ]
          },
          "metadata": {},
          "execution_count": 23
        },
        {
          "output_type": "display_data",
          "data": {
            "text/plain": [
              "<Figure size 640x480 with 1 Axes>"
            ],
            "image/png": "[encoded data removed]"
          },
          "metadata": {}
        }
      ]
    },
    {
      "cell_type": "code",
      "source": [
        "sns.barplot(y='BP _Diastolic (mmHg)', x='PCOS (Y/N)', data=data, palette='Set2')\n",
        "\n",
        "plt.xlabel('PCOS (Y/N)')\n",
        "plt.ylabel('Diastolic Blood Pressure (mmHg) ')\n",
        "plt.title('Diastolic Blood Pressure vs. PCOS')\n",
        "\n",
        "plt.show()\n"
      ],
      "metadata": {
        "colab": {
          "base_uri": "https://localhost:8080/",
          "height": 472
        },
        "id": "XN5KPWbhMrP4",
        "outputId": "8acd9632-e4ad-4c2c-8c57-0646306689ec"
      },
      "execution_count": null,
      "outputs": [
        {
          "output_type": "display_data",
          "data": {
            "text/plain": [
              "<Figure size 640x480 with 1 Axes>"
            ],
            "image/png": "[encoded data removed]"
          },
          "metadata": {}
        }
      ]
    },
    {
      "cell_type": "code",
      "source": [
        "sns.barplot(x='Cycle(R/I)', y='PCOS (Y/N)', data=data,orient='h',palette='Set3')\n",
        "\n",
        "# Add labels and title\n",
        "plt.xlabel('Cycle')\n",
        "plt.ylabel('PCOS (Y/N)')\n",
        "plt.title('Cycle(R/I) vs. PCOS')\n",
        "\n",
        "# Show the plot\n",
        "plt.show()"
      ],
      "metadata": {
        "id": "LzFnUvm1OX_i",
        "colab": {
          "base_uri": "https://localhost:8080/",
          "height": 472
        },
        "outputId": "51df5804-0e0d-46ab-802e-c55c1bcce599"
      },
      "execution_count": null,
      "outputs": [
        {
          "output_type": "display_data",
          "data": {
            "text/plain": [
              "<Figure size 640x480 with 1 Axes>"
            ],
            "image/png": "[encoded data removed]"
          },
          "metadata": {}
        }
      ]
    },
    {
      "cell_type": "code",
      "source": [
        "import seaborn as sns\n",
        "import matplotlib.pyplot as plt\n",
        "\n",
        "# Assuming 'data' is your DataFrame containing the relevant columns\n",
        "plt.figure(figsize=(10,6))\n",
        "# Create the count plot\n",
        "sns.countplot(x='Hb(g/dl)', data=data, palette='Set1')\n",
        "\n",
        "# Add labels and title\n",
        "plt.xlabel('Count of Hb(g/dl)')\n",
        "\n",
        "# Rotate x-axis labels for better readability\n",
        "plt.xticks(rotation=45)\n",
        "\n",
        "# Show the plot\n",
        "plt.show()\n"
      ],
      "metadata": {
        "id": "L2dmvyvgdHd8",
        "colab": {
          "base_uri": "https://localhost:8080/",
          "height": 585
        },
        "outputId": "c0ce0cc9-54c4-4f64-e02b-30ea0f1e49c6"
      },
      "execution_count": null,
      "outputs": [
        {
          "output_type": "display_data",
          "data": {
            "text/plain": [
              "<Figure size 1000x600 with 1 Axes>"
            ],
            "image/png": "[encoded data removed]"
          },
          "metadata": {}
        }
      ]
    },
    {
      "cell_type": "code",
      "source": [
        "import pandas as pd\n",
        "import seaborn as sns\n",
        "import matplotlib.pyplot as plt\n",
        "from sklearn.model_selection import train_test_split\n",
        "from sklearn.linear_model import LogisticRegression\n",
        "from sklearn.tree import DecisionTreeClassifier\n",
        "from sklearn.ensemble import RandomForestClassifier"
      ],
      "metadata": {
        "id": "tOqOVyHScG73"
      },
      "execution_count": null,
      "outputs": []
    },
    {
      "cell_type": "code",
      "execution_count": null,
      "metadata": {
        "id": "4-a016E17R47"
      },
      "outputs": [],
      "source": [
        "X=data[['Hb(g/dl)','Cycle(R/I)','FSH(mIU/mL)','TSH (mIU/L)','RBS(mg/dl)','Weight gain(Y/N)', 'hair growth(Y/N)','BP _Diastolic (mmHg)', 'Follicle No. (L)']]\n",
        "y=data[\"PCOS (Y/N)\"]\n",
        "\n",
        "#Splitting the data into test and training setsbar\n",
        "from sklearn.model_selection import train_test_split\n",
        "X_train,X_test, y_train, y_test = train_test_split(X,y, test_size=0.2,random_state=42)"
      ]
    },
    {
      "cell_type": "code",
      "source": [
        "y_train.value_counts()"
      ],
      "metadata": {
        "id": "ZsAU1Hk8L3o2",
        "colab": {
          "base_uri": "https://localhost:8080/"
        },
        "outputId": "7703b02f-2a4d-45a0-b8fb-a1ce6c2af51a"
      },
      "execution_count": null,
      "outputs": [
        {
          "output_type": "execute_result",
          "data": {
            "text/plain": [
              "0.0    287\n",
              "1.0    145\n",
              "Name: PCOS (Y/N), dtype: int64"
            ]
          },
          "metadata": {},
          "execution_count": 29
        }
      ]
    },
    {
      "cell_type": "code",
      "execution_count": null,
      "metadata": {
        "id": "7c8d965c"
      },
      "outputs": [],
      "source": [
        "from imblearn.over_sampling import SMOTE"
      ]
    },
    {
      "cell_type": "code",
      "execution_count": null,
      "metadata": {
        "id": "717f5817"
      },
      "outputs": [],
      "source": [
        "smote = SMOTE(sampling_strategy='auto', random_state=42)\n",
        "xbal,ybal=smote.fit_resample(X_train,y_train)"
      ]
    },
    {
      "cell_type": "code",
      "execution_count": null,
      "metadata": {
        "id": "435bd9ad",
        "colab": {
          "base_uri": "https://localhost:8080/"
        },
        "outputId": "d8fd0e47-caac-402d-d7af-f55a59c9d16e"
      },
      "outputs": [
        {
          "output_type": "execute_result",
          "data": {
            "text/plain": [
              "1.0    287\n",
              "0.0    287\n",
              "Name: PCOS (Y/N), dtype: int64"
            ]
          },
          "metadata": {},
          "execution_count": 32
        }
      ],
      "source": [
        "ybal.value_counts()"
      ]
    },
    {
      "cell_type": "markdown",
      "source": [
        "###LogisticRegression"
      ],
      "metadata": {
        "id": "myJyCzPyeh-8"
      }
    },
    {
      "cell_type": "code",
      "execution_count": null,
      "metadata": {
        "id": "XG6p3DgC1uqJ",
        "colab": {
          "base_uri": "https://localhost:8080/"
        },
        "outputId": "c7f19a83-55a0-4288-a04e-1d7c5a7b0541"
      },
      "outputs": [
        {
          "output_type": "stream",
          "name": "stdout",
          "text": [
            "acc_score of model 0.88\n"
          ]
        }
      ],
      "source": [
        "from sklearn.metrics import accuracy_score\n",
        "reg_model = LogisticRegression()\n",
        "reg_model.fit(X_train, y_train)\n",
        "reg_pred = reg_model.predict(X_test)\n",
        "\n",
        "reg_acc_score = accuracy_score(y_test, reg_pred)\n",
        "\n",
        "print(\"acc_score of model %.2f\"%accuracy_score(y_test,reg_pred))"
      ]
    },
    {
      "cell_type": "code",
      "execution_count": null,
      "metadata": {
        "id": "AJuz7Rvr2QEw",
        "colab": {
          "base_uri": "https://localhost:8080/"
        },
        "outputId": "d62c80e4-b90b-4734-f902-08d9320e117b"
      },
      "outputs": [
        {
          "output_type": "stream",
          "name": "stdout",
          "text": [
            "              precision    recall  f1-score   support\n",
            "\n",
            "         0.0       0.96      0.88      0.92        84\n",
            "         1.0       0.69      0.88      0.77        25\n",
            "\n",
            "    accuracy                           0.88       109\n",
            "   macro avg       0.82      0.88      0.85       109\n",
            "weighted avg       0.90      0.88      0.89       109\n",
            "\n"
          ]
        }
      ],
      "source": [
        "from sklearn.metrics import classification_report\n",
        "print(classification_report(reg_pred , y_test))\n"
      ]
    },
    {
      "cell_type": "markdown",
      "source": [
        "###DecisionTreeClassifier"
      ],
      "metadata": {
        "id": "WrhJuOm7eocS"
      }
    },
    {
      "cell_type": "code",
      "execution_count": null,
      "metadata": {
        "id": "BSDRcywJ20QO",
        "colab": {
          "base_uri": "https://localhost:8080/"
        },
        "outputId": "71c42918-98a1-4022-9baf-835084793823"
      },
      "outputs": [
        {
          "output_type": "stream",
          "name": "stdout",
          "text": [
            "acc_score of model 0.83\n"
          ]
        }
      ],
      "source": [
        "model_ = DecisionTreeClassifier()\n",
        "model_.fit(X_train, y_train)\n",
        "dt_pred = model_.predict(X_test)\n",
        "\n",
        "acc_score = accuracy_score(y_test, dt_pred)\n",
        "\n",
        "print(\"acc_score of model %.2f\"%accuracy_score(y_test,dt_pred))"
      ]
    },
    {
      "cell_type": "code",
      "execution_count": null,
      "metadata": {
        "id": "vE-cLI_J3P0e",
        "colab": {
          "base_uri": "https://localhost:8080/"
        },
        "outputId": "8d5451cf-bc5e-48cb-f42a-e901bce362bd"
      },
      "outputs": [
        {
          "output_type": "stream",
          "name": "stdout",
          "text": [
            "              precision    recall  f1-score   support\n",
            "\n",
            "         0.0       0.90      0.86      0.88        80\n",
            "         1.0       0.66      0.72      0.69        29\n",
            "\n",
            "    accuracy                           0.83       109\n",
            "   macro avg       0.78      0.79      0.78       109\n",
            "weighted avg       0.83      0.83      0.83       109\n",
            "\n"
          ]
        }
      ],
      "source": [
        "print(classification_report(dt_pred , y_test))"
      ]
    },
    {
      "cell_type": "markdown",
      "source": [
        "#RFC"
      ],
      "metadata": {
        "id": "mIbHK-TaD1Jz"
      }
    },
    {
      "cell_type": "code",
      "execution_count": null,
      "metadata": {
        "id": "Rxj6g9yv8Z9R",
        "colab": {
          "base_uri": "https://localhost:8080/"
        },
        "outputId": "334b3b4e-9d57-4c2c-8792-5328f6e8a95d"
      },
      "outputs": [
        {
          "output_type": "stream",
          "name": "stdout",
          "text": [
            "0.8532110091743119\n"
          ]
        }
      ],
      "source": [
        "from sklearn.ensemble import RandomForestClassifier\n",
        "rfc = RandomForestClassifier(n_estimators=100)\n",
        "my_model = rfc.fit(X_train, y_train)\n",
        "\n",
        "#Making prediction and checking the test set\n",
        "from sklearn.metrics import accuracy_score\n",
        "pred_rfc = rfc.predict(X_test)\n",
        "accuracy = accuracy_score(y_test, pred_rfc)\n",
        "print(accuracy)"
      ]
    },
    {
      "cell_type": "code",
      "execution_count": null,
      "metadata": {
        "id": "1zG5aWvP8dJz",
        "colab": {
          "base_uri": "https://localhost:8080/"
        },
        "outputId": "bea4114e-d20d-4557-ae32-2282dff00902"
      },
      "outputs": [
        {
          "output_type": "stream",
          "name": "stdout",
          "text": [
            "              precision    recall  f1-score   support\n",
            "\n",
            "         0.0       0.86      0.95      0.90        77\n",
            "         1.0       0.83      0.62      0.71        32\n",
            "\n",
            "    accuracy                           0.85       109\n",
            "   macro avg       0.85      0.79      0.81       109\n",
            "weighted avg       0.85      0.85      0.85       109\n",
            "\n"
          ]
        }
      ],
      "source": [
        "from sklearn.metrics import classification_report\n",
        "classi_report = classification_report(y_test, pred_rfc)\n",
        "print(classi_report)"
      ]
    },
    {
      "cell_type": "markdown",
      "source": [
        "#XGBoost"
      ],
      "metadata": {
        "id": "evrjas1VEITU"
      }
    },
    {
      "cell_type": "code",
      "execution_count": null,
      "metadata": {
        "id": "HFS4junO01w-",
        "colab": {
          "base_uri": "https://localhost:8080/"
        },
        "outputId": "67ffb4de-ff68-4f91-9337-3ec2cf14d576"
      },
      "outputs": [
        {
          "output_type": "execute_result",
          "data": {
            "text/plain": [
              "0.8532110091743119"
            ]
          },
          "metadata": {},
          "execution_count": 41
        }
      ],
      "source": [
        "import xgboost as xgb\n",
        "model1=xgb.XGBClassifier().fit(X_train,y_train)\n",
        "y_pred=model1.predict(X_test)\n",
        "model1.score(X_test, y_test)"
      ]
    },
    {
      "cell_type": "code",
      "execution_count": null,
      "metadata": {
        "id": "rW5Vn0k51IjM",
        "colab": {
          "base_uri": "https://localhost:8080/"
        },
        "outputId": "89ffae84-32ed-41a2-86c4-05b7bd0706b7"
      },
      "outputs": [
        {
          "output_type": "stream",
          "name": "stdout",
          "text": [
            "              precision    recall  f1-score   support\n",
            "\n",
            "           0       0.95      0.86      0.90        85\n",
            "           1       0.62      0.83      0.71        24\n",
            "\n",
            "    accuracy                           0.85       109\n",
            "   macro avg       0.79      0.85      0.81       109\n",
            "weighted avg       0.88      0.85      0.86       109\n",
            "\n"
          ]
        }
      ],
      "source": [
        "print(classification_report(y_pred, y_test))"
      ]
    },
    {
      "cell_type": "markdown",
      "source": [
        "#Prediction"
      ],
      "metadata": {
        "id": "3PIiSF1gETjW"
      }
    },
    {
      "cell_type": "code",
      "execution_count": null,
      "metadata": {
        "id": "4seMGYFHMJzN",
        "colab": {
          "base_uri": "https://localhost:8080/"
        },
        "outputId": "73eae82a-578a-408a-8b07-c368a00f1b2e"
      },
      "outputs": [
        {
          "output_type": "stream",
          "name": "stdout",
          "text": [
            "Hb(g/dl)                 10.20\n",
            "Cycle(R/I)                4.00\n",
            "FSH(mIU/mL)               3.99\n",
            "TSH (mIU/L)               1.66\n",
            "RBS(mg/dl)              108.00\n",
            "Weight gain(Y/N)          1.00\n",
            "hair growth(Y/N)          1.00\n",
            "BP _Diastolic (mmHg)     70.00\n",
            "Follicle No. (L)          9.00\n",
            "Name: 540, dtype: float64\n"
          ]
        }
      ],
      "source": [
        "import pandas as pd\n",
        "\n",
        "# Assuming 'data' is your DataFrame\n",
        "# For example, let's say you want to print data for the first row:\n",
        "row_index = 540 # Index of the row you want to print\n",
        "\n",
        "# Use .iloc[row_index] to access the row by index\n",
        "row_data = X.iloc[row_index]\n",
        "\n",
        "# Print all the columns data for the selected row\n",
        "print(row_data)"
      ]
    },
    {
      "cell_type": "markdown",
      "source": [
        "#Logistic Regression Prediction"
      ],
      "metadata": {
        "id": "Baa2bvmJFwol"
      }
    },
    {
      "cell_type": "code",
      "execution_count": null,
      "metadata": {
        "id": "HTEAHEaaQTNh",
        "colab": {
          "base_uri": "https://localhost:8080/"
        },
        "outputId": "316edd2b-8199-4307-9f8c-2a065c029373"
      },
      "outputs": [
        {
          "output_type": "stream",
          "name": "stdout",
          "text": [
            "[1.]\n"
          ]
        }
      ],
      "source": [
        "print(reg_model.predict([[11.80,2.00,5.54,2.54,84.00,0.00,0.00,80.00,13.00]]))"
      ]
    },
    {
      "cell_type": "code",
      "source": [
        "print(reg_model.predict([[10.00,2.00,3.98,3.57,84.00,0.00,0.00,80.00,3.00]]))"
      ],
      "metadata": {
        "id": "MlEfLxNkEWUD",
        "colab": {
          "base_uri": "https://localhost:8080/"
        },
        "outputId": "119c1f54-02ed-4b09-ffb1-527e97ce197d"
      },
      "execution_count": null,
      "outputs": [
        {
          "output_type": "stream",
          "name": "stdout",
          "text": [
            "[0.]\n"
          ]
        }
      ]
    },
    {
      "cell_type": "code",
      "source": [
        "print(reg_model.predict([[11.00,2.00,6.897407,1.11,92.00,0.00,0.00,70.00,1.00]]))"
      ],
      "metadata": {
        "id": "Rl2U8vqaFBfa",
        "colab": {
          "base_uri": "https://localhost:8080/"
        },
        "outputId": "abfa9cc2-bd73-48d4-aded-d053a3d52061"
      },
      "execution_count": null,
      "outputs": [
        {
          "output_type": "stream",
          "name": "stdout",
          "text": [
            "[0.]\n"
          ]
        }
      ]
    },
    {
      "cell_type": "code",
      "source": [
        "print(reg_model.predict([[10.20,4.00,3.99,1.66,108.00,1.00,1.00,70.00,9.00]]))"
      ],
      "metadata": {
        "id": "ifeV_aZrFePd",
        "colab": {
          "base_uri": "https://localhost:8080/"
        },
        "outputId": "a191e759-05f3-431b-d7c2-7935546a0a12"
      },
      "execution_count": null,
      "outputs": [
        {
          "output_type": "stream",
          "name": "stdout",
          "text": [
            "[1.]\n"
          ]
        }
      ]
    },
    {
      "cell_type": "markdown",
      "source": [
        "#RFC Prediction"
      ],
      "metadata": {
        "id": "tpA0HLwnF1EC"
      }
    },
    {
      "cell_type": "code",
      "execution_count": null,
      "metadata": {
        "id": "vIYjQ3JDF7D6",
        "colab": {
          "base_uri": "https://localhost:8080/"
        },
        "outputId": "f6abb038-1b1c-475a-82b3-bb35235c3435"
      },
      "outputs": [
        {
          "output_type": "stream",
          "name": "stdout",
          "text": [
            "[1.]\n"
          ]
        }
      ],
      "source": [
        "print(rfc.predict([[11.80,2.00,5.54,2.54,84.00,0.00,0.00,80.00,13.00]]))"
      ]
    },
    {
      "cell_type": "code",
      "source": [
        "print(rfc.predict([[10.00,2.00,3.98,3.57,84.00,0.00,0.00,80.00,3.00]]))"
      ],
      "metadata": {
        "id": "BH1nZozbF7D6",
        "colab": {
          "base_uri": "https://localhost:8080/"
        },
        "outputId": "571e3eeb-9988-457b-8c55-dc73d5567f5b"
      },
      "execution_count": null,
      "outputs": [
        {
          "output_type": "stream",
          "name": "stdout",
          "text": [
            "[0.]\n"
          ]
        }
      ]
    },
    {
      "cell_type": "code",
      "source": [
        "print(rfc.predict([[11.00,2.00,6.897407,1.11,92.00,0.00,0.00,70.00,1.00]]))"
      ],
      "metadata": {
        "id": "w01I9wy9F7D6",
        "colab": {
          "base_uri": "https://localhost:8080/"
        },
        "outputId": "ebf0da86-d702-4d69-f405-e05d6e5ce924"
      },
      "execution_count": null,
      "outputs": [
        {
          "output_type": "stream",
          "name": "stdout",
          "text": [
            "[0.]\n"
          ]
        }
      ]
    },
    {
      "cell_type": "code",
      "source": [
        "print(rfc.predict([[10.20,4.00,3.99,1.66,108.00,1.00,1.00,70.00,9.00]]))"
      ],
      "metadata": {
        "id": "n49piJpfF7D7",
        "colab": {
          "base_uri": "https://localhost:8080/"
        },
        "outputId": "e48ce3e3-a9fd-4b1d-fecb-f6e2a65d615f"
      },
      "execution_count": null,
      "outputs": [
        {
          "output_type": "stream",
          "name": "stdout",
          "text": [
            "[1.]\n"
          ]
        }
      ]
    },
    {
      "cell_type": "markdown",
      "source": [
        "#XGBoost"
      ],
      "metadata": {
        "id": "m-xEmM30GQJ9"
      }
    },
    {
      "cell_type": "code",
      "execution_count": null,
      "metadata": {
        "id": "iXTm-N7AGND7",
        "colab": {
          "base_uri": "https://localhost:8080/"
        },
        "outputId": "7df33948-a0e4-4d76-cf3d-1fa0627fc05c"
      },
      "outputs": [
        {
          "output_type": "stream",
          "name": "stdout",
          "text": [
            "[1]\n"
          ]
        }
      ],
      "source": [
        "print(model1.predict([[11.80,2.00,5.54,2.54,84.00,0.00,0.00,80.00,13.00]]))"
      ]
    },
    {
      "cell_type": "code",
      "source": [
        "print(model1.predict([[10.00,2.00,3.98,3.57,84.00,0.00,0.00,80.00,3.00]]))"
      ],
      "metadata": {
        "id": "Qos46EVLGND8",
        "colab": {
          "base_uri": "https://localhost:8080/"
        },
        "outputId": "ca0bbf01-f7e4-4520-e620-dd1699d4ee95"
      },
      "execution_count": null,
      "outputs": [
        {
          "output_type": "stream",
          "name": "stdout",
          "text": [
            "[0]\n"
          ]
        }
      ]
    },
    {
      "cell_type": "code",
      "source": [
        "print(model1.predict([[11.00,2.00,6.897407,1.11,92.00,0.00,0.00,70.00,1.00]]))"
      ],
      "metadata": {
        "id": "PTHAvwP5GND8",
        "colab": {
          "base_uri": "https://localhost:8080/"
        },
        "outputId": "1cb55ca9-c9c4-4826-a2ea-8745ca069006"
      },
      "execution_count": null,
      "outputs": [
        {
          "output_type": "stream",
          "name": "stdout",
          "text": [
            "[0]\n"
          ]
        }
      ]
    },
    {
      "cell_type": "code",
      "source": [
        "print(model1.predict([[10.20,4.00,3.99,1.66,108.00,1.00,1.00,70.00,9.00]]))"
      ],
      "metadata": {
        "id": "DL72GrJUGND9",
        "colab": {
          "base_uri": "https://localhost:8080/"
        },
        "outputId": "9634271c-41d7-4124-aa01-7949e9aae5f7"
      },
      "execution_count": null,
      "outputs": [
        {
          "output_type": "stream",
          "name": "stdout",
          "text": [
            "[1]\n"
          ]
        }
      ]
    },
    {
      "cell_type": "markdown",
      "source": [
        "#DT Classifier"
      ],
      "metadata": {
        "id": "Btq8wtbVGdBN"
      }
    },
    {
      "cell_type": "code",
      "execution_count": null,
      "metadata": {
        "id": "8KPC0zBmGNwU",
        "colab": {
          "base_uri": "https://localhost:8080/"
        },
        "outputId": "0547faff-91c6-4c80-ebf3-03e91bfa95dc"
      },
      "outputs": [
        {
          "output_type": "stream",
          "name": "stdout",
          "text": [
            "[1.]\n"
          ]
        }
      ],
      "source": [
        "print(model_.predict([[11.80,2.00,5.54,2.54,84.00,0.00,0.00,80.00,13.00]]))"
      ]
    },
    {
      "cell_type": "code",
      "source": [
        "print(model_.predict([[10.00,2.00,3.98,3.57,84.00,0.00,0.00,80.00,3.00]]))"
      ],
      "metadata": {
        "id": "DQnaEo5PGNwU",
        "colab": {
          "base_uri": "https://localhost:8080/"
        },
        "outputId": "2fefc002-a00a-4aa2-f653-5615c23c57f2"
      },
      "execution_count": null,
      "outputs": [
        {
          "output_type": "stream",
          "name": "stdout",
          "text": [
            "[0.]\n"
          ]
        }
      ]
    },
    {
      "cell_type": "code",
      "source": [
        "print(model_.predict([[11.00,2.00,6.897407,1.11,92.00,0.00,0.00,70.00,1.00]]))"
      ],
      "metadata": {
        "id": "lCse32EaGNwU",
        "colab": {
          "base_uri": "https://localhost:8080/"
        },
        "outputId": "22cb392a-7ec6-4699-822c-761ee3cb448f"
      },
      "execution_count": null,
      "outputs": [
        {
          "output_type": "stream",
          "name": "stdout",
          "text": [
            "[0.]\n"
          ]
        }
      ]
    },
    {
      "cell_type": "code",
      "source": [
        "print(model_.predict([[10.20,4.00,3.99,1.66,108.00,1.00,1.00,70.00,9.00]]))"
      ],
      "metadata": {
        "id": "A0Quo2PDGNwU",
        "colab": {
          "base_uri": "https://localhost:8080/"
        },
        "outputId": "ede9bfbc-0978-418d-ed6a-9715ee0aa221"
      },
      "execution_count": null,
      "outputs": [
        {
          "output_type": "stream",
          "name": "stdout",
          "text": [
            "[1.]\n"
          ]
        }
      ]
    },
    {
      "cell_type": "code",
      "source": [
        "import pickle\n",
        "pickle.dump(model1,open(\"xb.pkl\",\"wb\"))"
      ],
      "metadata": {
        "id": "aHd59dPRFu4l"
      },
      "execution_count": null,
      "outputs": []
    },
    {
      "cell_type": "code",
      "source": [],
      "metadata": {
        "id": "qRwsggOMN5tm"
      },
      "execution_count": null,
      "outputs": []
    }
  ]
}